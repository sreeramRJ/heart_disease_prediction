{
 "cells": [
  {
   "cell_type": "code",
   "execution_count": 2,
   "metadata": {},
   "outputs": [
    {
     "ename": "NameError",
     "evalue": "name 'data' is not defined",
     "output_type": "error",
     "traceback": [
      "\u001b[1;31m---------------------------------------------------------------------------\u001b[0m",
      "\u001b[1;31mNameError\u001b[0m                                 Traceback (most recent call last)",
      "\u001b[1;32m<ipython-input-2-862ad9debee3>\u001b[0m in \u001b[0;36m<module>\u001b[1;34m\u001b[0m\n\u001b[1;32m----> 1\u001b[1;33m \u001b[1;32mimport\u001b[0m \u001b[0mCode\u001b[0m \u001b[1;32mas\u001b[0m \u001b[0mcode\u001b[0m\u001b[1;33m\u001b[0m\u001b[1;33m\u001b[0m\u001b[0m\n\u001b[0m",
      "\u001b[1;32m~\\Documents\\Coding_challenge_sensyne\\Code.py\u001b[0m in \u001b[0;36m<module>\u001b[1;34m\u001b[0m\n\u001b[0;32m     20\u001b[0m     \u001b[0mdata\u001b[0m \u001b[1;33m=\u001b[0m \u001b[0mpd\u001b[0m\u001b[1;33m.\u001b[0m\u001b[0mread_csv\u001b[0m\u001b[1;33m(\u001b[0m\u001b[1;34m'https://archive.ics.uci.edu/ml/machine-learning-databases/heart-disease/processed.cleveland.data'\u001b[0m\u001b[1;33m,\u001b[0m\u001b[0mheader\u001b[0m\u001b[1;33m=\u001b[0m\u001b[1;32mNone\u001b[0m\u001b[1;33m,\u001b[0m\u001b[0mnames\u001b[0m\u001b[1;33m=\u001b[0m\u001b[1;33m[\u001b[0m\u001b[1;34m'age'\u001b[0m\u001b[1;33m,\u001b[0m\u001b[1;34m'sex'\u001b[0m\u001b[1;33m,\u001b[0m\u001b[1;34m'cp'\u001b[0m\u001b[1;33m,\u001b[0m\u001b[1;34m'trestbps'\u001b[0m\u001b[1;33m,\u001b[0m\u001b[1;34m'chol'\u001b[0m\u001b[1;33m,\u001b[0m\u001b[1;34m'fbs'\u001b[0m\u001b[1;33m,\u001b[0m\u001b[1;34m'restecg'\u001b[0m\u001b[1;33m,\u001b[0m\u001b[1;34m'thalach'\u001b[0m\u001b[1;33m,\u001b[0m\u001b[1;34m'exang'\u001b[0m\u001b[1;33m,\u001b[0m\u001b[1;34m'oldpeak'\u001b[0m\u001b[1;33m,\u001b[0m\u001b[1;34m'slope'\u001b[0m\u001b[1;33m,\u001b[0m\u001b[1;34m'ca'\u001b[0m\u001b[1;33m,\u001b[0m\u001b[1;34m'thal'\u001b[0m\u001b[1;33m,\u001b[0m\u001b[1;34m'num'\u001b[0m\u001b[1;33m]\u001b[0m\u001b[1;33m)\u001b[0m\u001b[1;33m\u001b[0m\u001b[1;33m\u001b[0m\u001b[0m\n\u001b[0;32m     21\u001b[0m \u001b[1;33m\u001b[0m\u001b[0m\n\u001b[1;32m---> 22\u001b[1;33m \u001b[0mdata\u001b[0m\u001b[1;33m.\u001b[0m\u001b[0mhead\u001b[0m\u001b[1;33m(\u001b[0m\u001b[1;33m)\u001b[0m\u001b[1;33m\u001b[0m\u001b[1;33m\u001b[0m\u001b[0m\n\u001b[0m\u001b[0;32m     23\u001b[0m \u001b[1;33m\u001b[0m\u001b[0m\n\u001b[0;32m     24\u001b[0m \u001b[1;31m#understanding the result\u001b[0m\u001b[1;33m\u001b[0m\u001b[1;33m\u001b[0m\u001b[1;33m\u001b[0m\u001b[0m\n",
      "\u001b[1;31mNameError\u001b[0m: name 'data' is not defined"
     ]
    }
   ],
   "source": [
    "import Code as code"
   ]
  },
  {
   "cell_type": "code",
   "execution_count": 2,
   "metadata": {},
   "outputs": [],
   "source": [
    "# import warnings filter\n",
    "from warnings import simplefilter\n",
    "# ignore all future warnings\n",
    "simplefilter(action='ignore', category = FutureWarning)\n",
    "# import warnings filter\n",
    "from warnings import simplefilter\n",
    "# ignore all future warnings\n",
    "simplefilter(action='ignore', category = FutureWarning)"
   ]
  },
  {
   "cell_type": "raw",
   "metadata": {},
   "source": [
    "#read in data from the url"
   ]
  },
  {
   "cell_type": "code",
   "execution_count": 44,
   "metadata": {},
   "outputs": [],
   "source": [
    "data = pd.read_csv('https://archive.ics.uci.edu/ml/machine-learning-databases/heart-disease/processed.cleveland.data',header=None,names=['age','sex','cp','trestbps','chol','fbs','restecg','thalach','exang','oldpeak','slope','ca','thal','num'])"
   ]
  },
  {
   "cell_type": "code",
   "execution_count": 4,
   "metadata": {},
   "outputs": [
    {
     "data": {
      "text/html": [
       "<div>\n",
       "<style scoped>\n",
       "    .dataframe tbody tr th:only-of-type {\n",
       "        vertical-align: middle;\n",
       "    }\n",
       "\n",
       "    .dataframe tbody tr th {\n",
       "        vertical-align: top;\n",
       "    }\n",
       "\n",
       "    .dataframe thead th {\n",
       "        text-align: right;\n",
       "    }\n",
       "</style>\n",
       "<table border=\"1\" class=\"dataframe\">\n",
       "  <thead>\n",
       "    <tr style=\"text-align: right;\">\n",
       "      <th></th>\n",
       "      <th>age</th>\n",
       "      <th>sex</th>\n",
       "      <th>cp</th>\n",
       "      <th>trestbps</th>\n",
       "      <th>chol</th>\n",
       "      <th>fbs</th>\n",
       "      <th>restecg</th>\n",
       "      <th>thalach</th>\n",
       "      <th>exang</th>\n",
       "      <th>oldpeak</th>\n",
       "      <th>slope</th>\n",
       "      <th>ca</th>\n",
       "      <th>thal</th>\n",
       "      <th>num</th>\n",
       "    </tr>\n",
       "  </thead>\n",
       "  <tbody>\n",
       "    <tr>\n",
       "      <th>0</th>\n",
       "      <td>63.0</td>\n",
       "      <td>1.0</td>\n",
       "      <td>1.0</td>\n",
       "      <td>145.0</td>\n",
       "      <td>233.0</td>\n",
       "      <td>1.0</td>\n",
       "      <td>2.0</td>\n",
       "      <td>150.0</td>\n",
       "      <td>0.0</td>\n",
       "      <td>2.3</td>\n",
       "      <td>3.0</td>\n",
       "      <td>0.0</td>\n",
       "      <td>6.0</td>\n",
       "      <td>0</td>\n",
       "    </tr>\n",
       "    <tr>\n",
       "      <th>1</th>\n",
       "      <td>67.0</td>\n",
       "      <td>1.0</td>\n",
       "      <td>4.0</td>\n",
       "      <td>160.0</td>\n",
       "      <td>286.0</td>\n",
       "      <td>0.0</td>\n",
       "      <td>2.0</td>\n",
       "      <td>108.0</td>\n",
       "      <td>1.0</td>\n",
       "      <td>1.5</td>\n",
       "      <td>2.0</td>\n",
       "      <td>3.0</td>\n",
       "      <td>3.0</td>\n",
       "      <td>2</td>\n",
       "    </tr>\n",
       "    <tr>\n",
       "      <th>2</th>\n",
       "      <td>67.0</td>\n",
       "      <td>1.0</td>\n",
       "      <td>4.0</td>\n",
       "      <td>120.0</td>\n",
       "      <td>229.0</td>\n",
       "      <td>0.0</td>\n",
       "      <td>2.0</td>\n",
       "      <td>129.0</td>\n",
       "      <td>1.0</td>\n",
       "      <td>2.6</td>\n",
       "      <td>2.0</td>\n",
       "      <td>2.0</td>\n",
       "      <td>7.0</td>\n",
       "      <td>1</td>\n",
       "    </tr>\n",
       "    <tr>\n",
       "      <th>3</th>\n",
       "      <td>37.0</td>\n",
       "      <td>1.0</td>\n",
       "      <td>3.0</td>\n",
       "      <td>130.0</td>\n",
       "      <td>250.0</td>\n",
       "      <td>0.0</td>\n",
       "      <td>0.0</td>\n",
       "      <td>187.0</td>\n",
       "      <td>0.0</td>\n",
       "      <td>3.5</td>\n",
       "      <td>3.0</td>\n",
       "      <td>0.0</td>\n",
       "      <td>3.0</td>\n",
       "      <td>0</td>\n",
       "    </tr>\n",
       "    <tr>\n",
       "      <th>4</th>\n",
       "      <td>41.0</td>\n",
       "      <td>0.0</td>\n",
       "      <td>2.0</td>\n",
       "      <td>130.0</td>\n",
       "      <td>204.0</td>\n",
       "      <td>0.0</td>\n",
       "      <td>2.0</td>\n",
       "      <td>172.0</td>\n",
       "      <td>0.0</td>\n",
       "      <td>1.4</td>\n",
       "      <td>1.0</td>\n",
       "      <td>0.0</td>\n",
       "      <td>3.0</td>\n",
       "      <td>0</td>\n",
       "    </tr>\n",
       "  </tbody>\n",
       "</table>\n",
       "</div>"
      ],
      "text/plain": [
       "    age  sex   cp  trestbps   chol  fbs  restecg  thalach  exang  oldpeak  \\\n",
       "0  63.0  1.0  1.0     145.0  233.0  1.0      2.0    150.0    0.0      2.3   \n",
       "1  67.0  1.0  4.0     160.0  286.0  0.0      2.0    108.0    1.0      1.5   \n",
       "2  67.0  1.0  4.0     120.0  229.0  0.0      2.0    129.0    1.0      2.6   \n",
       "3  37.0  1.0  3.0     130.0  250.0  0.0      0.0    187.0    0.0      3.5   \n",
       "4  41.0  0.0  2.0     130.0  204.0  0.0      2.0    172.0    0.0      1.4   \n",
       "\n",
       "   slope   ca thal  num  \n",
       "0    3.0  0.0  6.0    0  \n",
       "1    2.0  3.0  3.0    2  \n",
       "2    2.0  2.0  7.0    1  \n",
       "3    3.0  0.0  3.0    0  \n",
       "4    1.0  0.0  3.0    0  "
      ]
     },
     "execution_count": 4,
     "metadata": {},
     "output_type": "execute_result"
    }
   ],
   "source": [
    "data.head()"
   ]
  },
  {
   "cell_type": "raw",
   "metadata": {},
   "source": [
    "#understanding the result"
   ]
  },
  {
   "cell_type": "code",
   "execution_count": 36,
   "metadata": {},
   "outputs": [
    {
     "data": {
      "text/plain": [
       "array([0, 1], dtype=int64)"
      ]
     },
     "execution_count": 36,
     "metadata": {},
     "output_type": "execute_result"
    }
   ],
   "source": [
    "data['num'].unique()"
   ]
  },
  {
   "cell_type": "raw",
   "metadata": {},
   "source": [
    "#change result variable to binary as mentioned in dataset description"
   ]
  },
  {
   "cell_type": "code",
   "execution_count": 45,
   "metadata": {},
   "outputs": [],
   "source": [
    "data.loc[data['num'] > 0,'num'] = 1"
   ]
  },
  {
   "cell_type": "raw",
   "metadata": {},
   "source": [
    "#check for NA"
   ]
  },
  {
   "cell_type": "code",
   "execution_count": 7,
   "metadata": {},
   "outputs": [
    {
     "data": {
      "text/plain": [
       "age         0\n",
       "sex         0\n",
       "cp          0\n",
       "trestbps    0\n",
       "chol        0\n",
       "fbs         0\n",
       "restecg     0\n",
       "thalach     0\n",
       "exang       0\n",
       "oldpeak     0\n",
       "slope       0\n",
       "ca          0\n",
       "thal        0\n",
       "num         0\n",
       "dtype: int64"
      ]
     },
     "execution_count": 7,
     "metadata": {},
     "output_type": "execute_result"
    }
   ],
   "source": [
    "data.isnull().sum()"
   ]
  },
  {
   "cell_type": "raw",
   "metadata": {},
   "source": [
    "#check for the datatypes for any unusual characters"
   ]
  },
  {
   "cell_type": "code",
   "execution_count": 8,
   "metadata": {},
   "outputs": [
    {
     "data": {
      "text/plain": [
       "age         float64\n",
       "sex         float64\n",
       "cp          float64\n",
       "trestbps    float64\n",
       "chol        float64\n",
       "fbs         float64\n",
       "restecg     float64\n",
       "thalach     float64\n",
       "exang       float64\n",
       "oldpeak     float64\n",
       "slope       float64\n",
       "ca           object\n",
       "thal         object\n",
       "num           int64\n",
       "dtype: object"
      ]
     },
     "execution_count": 8,
     "metadata": {},
     "output_type": "execute_result"
    }
   ],
   "source": [
    "data.dtypes"
   ]
  },
  {
   "cell_type": "code",
   "execution_count": 9,
   "metadata": {},
   "outputs": [
    {
     "name": "stdout",
     "output_type": "stream",
     "text": [
      "['0.0' '3.0' '2.0' '1.0' '?']\n",
      "['6.0' '3.0' '7.0' '?']\n"
     ]
    }
   ],
   "source": [
    "print(data['ca'].unique())\n",
    "print(data['thal'].unique())"
   ]
  },
  {
   "cell_type": "code",
   "execution_count": 10,
   "metadata": {},
   "outputs": [
    {
     "data": {
      "text/html": [
       "<div>\n",
       "<style scoped>\n",
       "    .dataframe tbody tr th:only-of-type {\n",
       "        vertical-align: middle;\n",
       "    }\n",
       "\n",
       "    .dataframe tbody tr th {\n",
       "        vertical-align: top;\n",
       "    }\n",
       "\n",
       "    .dataframe thead th {\n",
       "        text-align: right;\n",
       "    }\n",
       "</style>\n",
       "<table border=\"1\" class=\"dataframe\">\n",
       "  <thead>\n",
       "    <tr style=\"text-align: right;\">\n",
       "      <th></th>\n",
       "      <th>age</th>\n",
       "      <th>sex</th>\n",
       "      <th>cp</th>\n",
       "      <th>trestbps</th>\n",
       "      <th>chol</th>\n",
       "      <th>fbs</th>\n",
       "      <th>restecg</th>\n",
       "      <th>thalach</th>\n",
       "      <th>exang</th>\n",
       "      <th>oldpeak</th>\n",
       "      <th>slope</th>\n",
       "      <th>ca</th>\n",
       "      <th>thal</th>\n",
       "      <th>num</th>\n",
       "    </tr>\n",
       "  </thead>\n",
       "  <tbody>\n",
       "    <tr>\n",
       "      <th>87</th>\n",
       "      <td>53.0</td>\n",
       "      <td>0.0</td>\n",
       "      <td>3.0</td>\n",
       "      <td>128.0</td>\n",
       "      <td>216.0</td>\n",
       "      <td>0.0</td>\n",
       "      <td>2.0</td>\n",
       "      <td>115.0</td>\n",
       "      <td>0.0</td>\n",
       "      <td>0.0</td>\n",
       "      <td>1.0</td>\n",
       "      <td>0.0</td>\n",
       "      <td>?</td>\n",
       "      <td>0</td>\n",
       "    </tr>\n",
       "    <tr>\n",
       "      <th>166</th>\n",
       "      <td>52.0</td>\n",
       "      <td>1.0</td>\n",
       "      <td>3.0</td>\n",
       "      <td>138.0</td>\n",
       "      <td>223.0</td>\n",
       "      <td>0.0</td>\n",
       "      <td>0.0</td>\n",
       "      <td>169.0</td>\n",
       "      <td>0.0</td>\n",
       "      <td>0.0</td>\n",
       "      <td>1.0</td>\n",
       "      <td>?</td>\n",
       "      <td>3.0</td>\n",
       "      <td>0</td>\n",
       "    </tr>\n",
       "    <tr>\n",
       "      <th>192</th>\n",
       "      <td>43.0</td>\n",
       "      <td>1.0</td>\n",
       "      <td>4.0</td>\n",
       "      <td>132.0</td>\n",
       "      <td>247.0</td>\n",
       "      <td>1.0</td>\n",
       "      <td>2.0</td>\n",
       "      <td>143.0</td>\n",
       "      <td>1.0</td>\n",
       "      <td>0.1</td>\n",
       "      <td>2.0</td>\n",
       "      <td>?</td>\n",
       "      <td>7.0</td>\n",
       "      <td>1</td>\n",
       "    </tr>\n",
       "    <tr>\n",
       "      <th>266</th>\n",
       "      <td>52.0</td>\n",
       "      <td>1.0</td>\n",
       "      <td>4.0</td>\n",
       "      <td>128.0</td>\n",
       "      <td>204.0</td>\n",
       "      <td>1.0</td>\n",
       "      <td>0.0</td>\n",
       "      <td>156.0</td>\n",
       "      <td>1.0</td>\n",
       "      <td>1.0</td>\n",
       "      <td>2.0</td>\n",
       "      <td>0.0</td>\n",
       "      <td>?</td>\n",
       "      <td>1</td>\n",
       "    </tr>\n",
       "    <tr>\n",
       "      <th>287</th>\n",
       "      <td>58.0</td>\n",
       "      <td>1.0</td>\n",
       "      <td>2.0</td>\n",
       "      <td>125.0</td>\n",
       "      <td>220.0</td>\n",
       "      <td>0.0</td>\n",
       "      <td>0.0</td>\n",
       "      <td>144.0</td>\n",
       "      <td>0.0</td>\n",
       "      <td>0.4</td>\n",
       "      <td>2.0</td>\n",
       "      <td>?</td>\n",
       "      <td>7.0</td>\n",
       "      <td>0</td>\n",
       "    </tr>\n",
       "    <tr>\n",
       "      <th>302</th>\n",
       "      <td>38.0</td>\n",
       "      <td>1.0</td>\n",
       "      <td>3.0</td>\n",
       "      <td>138.0</td>\n",
       "      <td>175.0</td>\n",
       "      <td>0.0</td>\n",
       "      <td>0.0</td>\n",
       "      <td>173.0</td>\n",
       "      <td>0.0</td>\n",
       "      <td>0.0</td>\n",
       "      <td>1.0</td>\n",
       "      <td>?</td>\n",
       "      <td>3.0</td>\n",
       "      <td>0</td>\n",
       "    </tr>\n",
       "  </tbody>\n",
       "</table>\n",
       "</div>"
      ],
      "text/plain": [
       "      age  sex   cp  trestbps   chol  fbs  restecg  thalach  exang  oldpeak  \\\n",
       "87   53.0  0.0  3.0     128.0  216.0  0.0      2.0    115.0    0.0      0.0   \n",
       "166  52.0  1.0  3.0     138.0  223.0  0.0      0.0    169.0    0.0      0.0   \n",
       "192  43.0  1.0  4.0     132.0  247.0  1.0      2.0    143.0    1.0      0.1   \n",
       "266  52.0  1.0  4.0     128.0  204.0  1.0      0.0    156.0    1.0      1.0   \n",
       "287  58.0  1.0  2.0     125.0  220.0  0.0      0.0    144.0    0.0      0.4   \n",
       "302  38.0  1.0  3.0     138.0  175.0  0.0      0.0    173.0    0.0      0.0   \n",
       "\n",
       "     slope   ca thal  num  \n",
       "87     1.0  0.0    ?    0  \n",
       "166    1.0    ?  3.0    0  \n",
       "192    2.0    ?  7.0    1  \n",
       "266    2.0  0.0    ?    1  \n",
       "287    2.0    ?  7.0    0  \n",
       "302    1.0    ?  3.0    0  "
      ]
     },
     "execution_count": 10,
     "metadata": {},
     "output_type": "execute_result"
    }
   ],
   "source": [
    "data.loc[(data['ca'] == '?') | (data['thal'] == '?')]"
   ]
  },
  {
   "cell_type": "raw",
   "metadata": {},
   "source": [
    "#replace ca with 0 as it is in most other data points\n",
    "#replace thal corresponding to the result (num) in other data points - so the prediction model can be effective in training"
   ]
  },
  {
   "cell_type": "code",
   "execution_count": 46,
   "metadata": {},
   "outputs": [],
   "source": [
    "data.loc[data['ca'] == '?','ca'] = 0.0\n",
    "data.loc[(data['thal'] == '?') & (data['num'] == 0),'thal'] = 3.0\n",
    "data.loc[(data['thal'] == '?') & (data['num'] == 1),'thal'] = 7.0"
   ]
  },
  {
   "cell_type": "code",
   "execution_count": 47,
   "metadata": {},
   "outputs": [],
   "source": [
    "data = data.astype({'ca' : 'float64','thal' : 'float64'})"
   ]
  },
  {
   "cell_type": "code",
   "execution_count": null,
   "metadata": {},
   "outputs": [],
   "source": [
    "#understanding the dataset"
   ]
  },
  {
   "cell_type": "code",
   "execution_count": 13,
   "metadata": {},
   "outputs": [],
   "source": [
    "import seaborn as sns\n",
    "import matplotlib.pyplot as plt"
   ]
  },
  {
   "cell_type": "code",
   "execution_count": 31,
   "metadata": {},
   "outputs": [
    {
     "data": {
      "text/plain": [
       "<Figure size 864x864 with 0 Axes>"
      ]
     },
     "metadata": {},
     "output_type": "display_data"
    }
   ],
   "source": [
    "plt.rcParams[\"figure.figsize\"] = (12,12)\n",
    "plt.subplots_adjust(top = 1.5,hspace = 3.0)"
   ]
  },
  {
   "cell_type": "code",
   "execution_count": 32,
   "metadata": {},
   "outputs": [
    {
     "data": {
      "text/plain": [
       "array([[<matplotlib.axes._subplots.AxesSubplot object at 0x000002283E480518>,\n",
       "        <matplotlib.axes._subplots.AxesSubplot object at 0x000002283E4B7518>,\n",
       "        <matplotlib.axes._subplots.AxesSubplot object at 0x000002283E811358>,\n",
       "        <matplotlib.axes._subplots.AxesSubplot object at 0x000002283E83A8D0>],\n",
       "       [<matplotlib.axes._subplots.AxesSubplot object at 0x000002283E866E80>,\n",
       "        <matplotlib.axes._subplots.AxesSubplot object at 0x000002283E89D470>,\n",
       "        <matplotlib.axes._subplots.AxesSubplot object at 0x000002283E8C8A20>,\n",
       "        <matplotlib.axes._subplots.AxesSubplot object at 0x000002283E8F6FD0>],\n",
       "       [<matplotlib.axes._subplots.AxesSubplot object at 0x000002283E900080>,\n",
       "        <matplotlib.axes._subplots.AxesSubplot object at 0x000002283E954B70>,\n",
       "        <matplotlib.axes._subplots.AxesSubplot object at 0x000002283E98E160>,\n",
       "        <matplotlib.axes._subplots.AxesSubplot object at 0x000002283E9BD710>],\n",
       "       [<matplotlib.axes._subplots.AxesSubplot object at 0x000002283E9EECC0>,\n",
       "        <matplotlib.axes._subplots.AxesSubplot object at 0x000002283EA2B2B0>,\n",
       "        <matplotlib.axes._subplots.AxesSubplot object at 0x000002283EA5C860>,\n",
       "        <matplotlib.axes._subplots.AxesSubplot object at 0x000002283EA8EE10>]],\n",
       "      dtype=object)"
      ]
     },
     "execution_count": 32,
     "metadata": {},
     "output_type": "execute_result"
    },
    {
     "data": {
      "image/png": "[encoded data removed]",
      "text/plain": [
       "<Figure size 864x864 with 16 Axes>"
      ]
     },
     "metadata": {
      "needs_background": "light"
     },
     "output_type": "display_data"
    }
   ],
   "source": [
    "data.hist()"
   ]
  },
  {
   "cell_type": "code",
   "execution_count": 39,
   "metadata": {},
   "outputs": [
    {
     "data": {
      "image/png": "[encoded data removed]",
      "text/plain": [
       "<Figure size 432x432 with 1 Axes>"
      ]
     },
     "metadata": {
      "needs_background": "light"
     },
     "output_type": "display_data"
    }
   ],
   "source": [
    "f = sns.countplot(x='num', data=data)\n",
    "f.set_title(\"Heart disease distribution\")\n",
    "f.set_xticklabels(['No Heart disease', 'Heart Disease'])\n",
    "plt.rcParams[\"figure.figsize\"] = (6,6)\n",
    "plt.xlabel(\"\");"
   ]
  },
  {
   "cell_type": "code",
   "execution_count": 64,
   "metadata": {},
   "outputs": [
    {
     "data": {
      "image/png": "[encoded data removed]",
      "text/plain": [
       "<Figure size 432x432 with 1 Axes>"
      ]
     },
     "metadata": {
      "needs_background": "light"
     },
     "output_type": "display_data"
    }
   ],
   "source": [
    "f = sns.countplot(x='num', data=data, hue='sex')\n",
    "plt.legend(['Female', 'Male'])\n",
    "f.set_title(\"Heart disease by gender\")\n",
    "f.set_xticklabels(['No Heart disease', 'Heart Disease'])\n",
    "plt.xlabel(\"\");"
   ]
  },
  {
   "cell_type": "code",
   "execution_count": 41,
   "metadata": {},
   "outputs": [
    {
     "data": {
      "image/png": "[encoded data removed]",
      "text/plain": [
       "<Figure size 1440x432 with 1 Axes>"
      ]
     },
     "metadata": {
      "needs_background": "light"
     },
     "output_type": "display_data"
    }
   ],
   "source": [
    "pd.crosstab(data['age'],data['num']).plot(kind=\"bar\",figsize=(20,6))\n",
    "plt.title('Heart Disease Frequency for Ages')\n",
    "plt.xlabel('Age')\n",
    "plt.ylabel('Frequency')\n",
    "# plt.savefig('heartDiseaseAndAges.png')\n",
    "plt.show()"
   ]
  },
  {
   "cell_type": "code",
   "execution_count": 42,
   "metadata": {},
   "outputs": [],
   "source": [
    "from sklearn.preprocessing import StandardScaler\n",
    "dataset = pd.get_dummies(data, columns = ['sex', 'cp', 'fbs', 'restecg', 'exang', 'slope', 'ca', 'thal'])\n",
    "\n",
    "standardScaler = StandardScaler()\n",
    "\n",
    "columns_to_scale = ['age', 'trestbps', 'chol', 'thalach', 'oldpeak']\n",
    "\n",
    "data[columns_to_scale] = standardScaler.fit_transform(data[columns_to_scale])"
   ]
  },
  {
   "cell_type": "code",
   "execution_count": 48,
   "metadata": {},
   "outputs": [
    {
     "data": {
      "text/html": [
       "<div>\n",
       "<style scoped>\n",
       "    .dataframe tbody tr th:only-of-type {\n",
       "        vertical-align: middle;\n",
       "    }\n",
       "\n",
       "    .dataframe tbody tr th {\n",
       "        vertical-align: top;\n",
       "    }\n",
       "\n",
       "    .dataframe thead th {\n",
       "        text-align: right;\n",
       "    }\n",
       "</style>\n",
       "<table border=\"1\" class=\"dataframe\">\n",
       "  <thead>\n",
       "    <tr style=\"text-align: right;\">\n",
       "      <th></th>\n",
       "      <th>age</th>\n",
       "      <th>sex</th>\n",
       "      <th>cp</th>\n",
       "      <th>trestbps</th>\n",
       "      <th>chol</th>\n",
       "      <th>fbs</th>\n",
       "      <th>restecg</th>\n",
       "      <th>thalach</th>\n",
       "      <th>exang</th>\n",
       "      <th>oldpeak</th>\n",
       "      <th>slope</th>\n",
       "      <th>ca</th>\n",
       "      <th>thal</th>\n",
       "      <th>num</th>\n",
       "    </tr>\n",
       "  </thead>\n",
       "  <tbody>\n",
       "    <tr>\n",
       "      <th>0</th>\n",
       "      <td>63.0</td>\n",
       "      <td>1.0</td>\n",
       "      <td>1.0</td>\n",
       "      <td>145.0</td>\n",
       "      <td>233.0</td>\n",
       "      <td>1.0</td>\n",
       "      <td>2.0</td>\n",
       "      <td>150.0</td>\n",
       "      <td>0.0</td>\n",
       "      <td>2.3</td>\n",
       "      <td>3.0</td>\n",
       "      <td>0.0</td>\n",
       "      <td>6.0</td>\n",
       "      <td>0</td>\n",
       "    </tr>\n",
       "    <tr>\n",
       "      <th>1</th>\n",
       "      <td>67.0</td>\n",
       "      <td>1.0</td>\n",
       "      <td>4.0</td>\n",
       "      <td>160.0</td>\n",
       "      <td>286.0</td>\n",
       "      <td>0.0</td>\n",
       "      <td>2.0</td>\n",
       "      <td>108.0</td>\n",
       "      <td>1.0</td>\n",
       "      <td>1.5</td>\n",
       "      <td>2.0</td>\n",
       "      <td>3.0</td>\n",
       "      <td>3.0</td>\n",
       "      <td>1</td>\n",
       "    </tr>\n",
       "    <tr>\n",
       "      <th>2</th>\n",
       "      <td>67.0</td>\n",
       "      <td>1.0</td>\n",
       "      <td>4.0</td>\n",
       "      <td>120.0</td>\n",
       "      <td>229.0</td>\n",
       "      <td>0.0</td>\n",
       "      <td>2.0</td>\n",
       "      <td>129.0</td>\n",
       "      <td>1.0</td>\n",
       "      <td>2.6</td>\n",
       "      <td>2.0</td>\n",
       "      <td>2.0</td>\n",
       "      <td>7.0</td>\n",
       "      <td>1</td>\n",
       "    </tr>\n",
       "    <tr>\n",
       "      <th>3</th>\n",
       "      <td>37.0</td>\n",
       "      <td>1.0</td>\n",
       "      <td>3.0</td>\n",
       "      <td>130.0</td>\n",
       "      <td>250.0</td>\n",
       "      <td>0.0</td>\n",
       "      <td>0.0</td>\n",
       "      <td>187.0</td>\n",
       "      <td>0.0</td>\n",
       "      <td>3.5</td>\n",
       "      <td>3.0</td>\n",
       "      <td>0.0</td>\n",
       "      <td>3.0</td>\n",
       "      <td>0</td>\n",
       "    </tr>\n",
       "    <tr>\n",
       "      <th>4</th>\n",
       "      <td>41.0</td>\n",
       "      <td>0.0</td>\n",
       "      <td>2.0</td>\n",
       "      <td>130.0</td>\n",
       "      <td>204.0</td>\n",
       "      <td>0.0</td>\n",
       "      <td>2.0</td>\n",
       "      <td>172.0</td>\n",
       "      <td>0.0</td>\n",
       "      <td>1.4</td>\n",
       "      <td>1.0</td>\n",
       "      <td>0.0</td>\n",
       "      <td>3.0</td>\n",
       "      <td>0</td>\n",
       "    </tr>\n",
       "  </tbody>\n",
       "</table>\n",
       "</div>"
      ],
      "text/plain": [
       "    age  sex   cp  trestbps   chol  fbs  restecg  thalach  exang  oldpeak  \\\n",
       "0  63.0  1.0  1.0     145.0  233.0  1.0      2.0    150.0    0.0      2.3   \n",
       "1  67.0  1.0  4.0     160.0  286.0  0.0      2.0    108.0    1.0      1.5   \n",
       "2  67.0  1.0  4.0     120.0  229.0  0.0      2.0    129.0    1.0      2.6   \n",
       "3  37.0  1.0  3.0     130.0  250.0  0.0      0.0    187.0    0.0      3.5   \n",
       "4  41.0  0.0  2.0     130.0  204.0  0.0      2.0    172.0    0.0      1.4   \n",
       "\n",
       "   slope   ca  thal  num  \n",
       "0    3.0  0.0   6.0    0  \n",
       "1    2.0  3.0   3.0    1  \n",
       "2    2.0  2.0   7.0    1  \n",
       "3    3.0  0.0   3.0    0  \n",
       "4    1.0  0.0   3.0    0  "
      ]
     },
     "execution_count": 48,
     "metadata": {},
     "output_type": "execute_result"
    }
   ],
   "source": [
    "data.head()"
   ]
  },
  {
   "cell_type": "code",
   "execution_count": 103,
   "metadata": {},
   "outputs": [
    {
     "data": {
      "image/png": "[encoded data removed]",
      "text/plain": [
       "<Figure size 720x504 with 1 Axes>"
      ]
     },
     "metadata": {
      "needs_background": "light"
     },
     "output_type": "display_data"
    }
   ],
   "source": [
    "plt.scatter(x=data.age[data.num==1], y=data.thalach[(data.num==1)], c=\"blue\", s=80)\n",
    "plt.scatter(x=data.age[data.num==0], y=data.thalach[(data.num==0)], s=80)\n",
    "plt.legend([\"Disease\", \"No Disease\"])\n",
    "plt.xlabel(\"Age\")\n",
    "plt.ylabel(\"thalach\");"
   ]
  },
  {
   "cell_type": "code",
   "execution_count": 50,
   "metadata": {},
   "outputs": [],
   "source": [
    "################################## data preprocessing\n",
    "X = data.iloc[:, :-1].values\n",
    "y = data.iloc[:, -1].values\n",
    "\n",
    "from sklearn.model_selection import train_test_split\n",
    "X_train, X_test, y_train, y_test = train_test_split(X, y, test_size = 0.2, random_state = 0)"
   ]
  },
  {
   "cell_type": "code",
   "execution_count": 52,
   "metadata": {},
   "outputs": [
    {
     "name": "stderr",
     "output_type": "stream",
     "text": [
      "C:\\Users\\sra09\\AppData\\Local\\Continuum\\anaconda3\\lib\\site-packages\\sklearn\\model_selection\\_search.py:841: DeprecationWarning: The default of the `iid` parameter will change from True to False in version 0.22 and will be removed in 0.24. This will change numeric results when test-set sizes are unequal.\n",
      "  DeprecationWarning)\n"
     ]
    },
    {
     "data": {
      "text/plain": [
       "{'C': 0.4, 'class_weight': {0: 0.67, 1: 0.33}, 'penalty': 'l2'}"
      ]
     },
     "execution_count": 52,
     "metadata": {},
     "output_type": "execute_result"
    }
   ],
   "source": [
    "################################## hyperparameter tuning with Grid Search\n",
    "from sklearn.model_selection import GridSearchCV\n",
    "from sklearn.linear_model import LogisticRegression\n",
    "lr = LogisticRegression(class_weight='balanced',random_state=42)\n",
    "param_grid = { \n",
    "    'C': [0.1,0.2,0.3,0.4],\n",
    "    'penalty': ['l1', 'l2'],\n",
    "    'class_weight':[{0: 1, 1: 1},{ 0:0.67, 1:0.33 },{ 0:0.75, 1:0.25 },{ 0:0.8, 1:0.2 }]}\n",
    "CV_rfc = GridSearchCV(estimator=lr, param_grid=param_grid, cv= 5)\n",
    "CV_rfc.fit(X_train, y_train)\n",
    "CV_rfc.best_params_"
   ]
  },
  {
   "cell_type": "code",
   "execution_count": 53,
   "metadata": {},
   "outputs": [
    {
     "name": "stdout",
     "output_type": "stream",
     "text": [
      "Sensitivity/Recall :  0.9318181818181818\n",
      "Specificity :  0.7987012987012987\n",
      "Precision   :  0.7256637168141593\n",
      "F1 score    :  0.8159203980099501\n",
      "\n",
      "Accuracy for training set for Logistic Regression = 0.8471074380165289\n",
      "Accuracy for test set for Logistic Regression = 0.7868852459016393\n"
     ]
    }
   ],
   "source": [
    "#########################################   Logistic Regression  #############################################################\n",
    "\n",
    "classifier_logistic = LogisticRegression(C=0.4,random_state=42,penalty='l2',class_weight={0: 0.67, 1: 0.33})\n",
    "classifier_logistic.fit(X_train, y_train)\n",
    "\n",
    "# Predicting the Test set results\n",
    "y_pred = classifier_logistic.predict(X_test)\n",
    "\n",
    "from sklearn.metrics import confusion_matrix\n",
    "cm_test = confusion_matrix(y_pred, y_test)\n",
    "\n",
    "y_pred_train = classifier_logistic.predict(X_train)\n",
    "cm_train = confusion_matrix(y_pred_train, y_train)\n",
    "sensitivity2 = cm_train[1,1]/(cm_train[1,1]+cm_train[1,0])\n",
    "print('Sensitivity/Recall : ', sensitivity2)\n",
    "\n",
    "specificity2 = cm_train[0,0]/(cm_train[0,0]+cm_train[0,1])\n",
    "print('Specificity : ', specificity2)\n",
    "\n",
    "precision2 = cm_train[1,1]/(cm_train[1,1]+cm_train[0,1])\n",
    "print('Precision   : ', precision2)\n",
    "\n",
    "F1score2=(2*sensitivity2*precision2)/(sensitivity2+precision2)\n",
    "print('F1 score    : ', F1score2)\n",
    "\n",
    "print()\n",
    "print('Accuracy for training set for Logistic Regression = {}'.format((cm_train[0][0] + cm_train[1][1])/len(y_train)))\n",
    "print('Accuracy for test set for Logistic Regression = {}'.format((cm_test[0][0] + cm_test[1][1])/len(y_test)))"
   ]
  },
  {
   "cell_type": "code",
   "execution_count": 54,
   "metadata": {},
   "outputs": [
    {
     "data": {
      "text/plain": [
       "0.8386542915038356"
      ]
     },
     "execution_count": 54,
     "metadata": {},
     "output_type": "execute_result"
    }
   ],
   "source": [
    "################################## k fold cross validation\n",
    "from sklearn.model_selection import StratifiedKFold,cross_val_score\n",
    "skf = StratifiedKFold(n_splits=5, shuffle=True, random_state=42)\n",
    "skf.get_n_splits(X_train, y_train)\n",
    "results = cross_val_score(classifier_logistic, X_train, y_train, cv=skf, n_jobs=1, scoring='accuracy')\n",
    "results.mean()"
   ]
  },
  {
   "cell_type": "code",
   "execution_count": 148,
   "metadata": {},
   "outputs": [
    {
     "data": {
      "text/plain": [
       "array([[3.40e+01, 0.00e+00, 2.00e+00, 1.18e+02, 2.10e+02, 0.00e+00,\n",
       "        0.00e+00, 1.92e+02, 0.00e+00, 7.00e-01, 1.00e+00, 0.00e+00,\n",
       "        3.00e+00],\n",
       "       [6.70e+01, 0.00e+00, 3.00e+00, 1.15e+02, 5.64e+02, 0.00e+00,\n",
       "        2.00e+00, 1.60e+02, 0.00e+00, 1.60e+00, 2.00e+00, 0.00e+00,\n",
       "        7.00e+00],\n",
       "       [5.40e+01, 1.00e+00, 4.00e+00, 1.10e+02, 2.06e+02, 0.00e+00,\n",
       "        2.00e+00, 1.08e+02, 1.00e+00, 0.00e+00, 2.00e+00, 1.00e+00,\n",
       "        3.00e+00],\n",
       "       [6.40e+01, 0.00e+00, 4.00e+00, 1.80e+02, 3.25e+02, 0.00e+00,\n",
       "        0.00e+00, 1.54e+02, 1.00e+00, 0.00e+00, 1.00e+00, 0.00e+00,\n",
       "        3.00e+00],\n",
       "       [4.40e+01, 1.00e+00, 4.00e+00, 1.12e+02, 2.90e+02, 0.00e+00,\n",
       "        2.00e+00, 1.53e+02, 0.00e+00, 0.00e+00, 1.00e+00, 1.00e+00,\n",
       "        3.00e+00],\n",
       "       [6.70e+01, 1.00e+00, 4.00e+00, 1.20e+02, 2.37e+02, 0.00e+00,\n",
       "        0.00e+00, 7.10e+01, 0.00e+00, 1.00e+00, 2.00e+00, 0.00e+00,\n",
       "        3.00e+00],\n",
       "       [5.70e+01, 1.00e+00, 4.00e+00, 1.52e+02, 2.74e+02, 0.00e+00,\n",
       "        0.00e+00, 8.80e+01, 1.00e+00, 1.20e+00, 2.00e+00, 1.00e+00,\n",
       "        7.00e+00],\n",
       "       [3.50e+01, 1.00e+00, 4.00e+00, 1.26e+02, 2.82e+02, 0.00e+00,\n",
       "        2.00e+00, 1.56e+02, 1.00e+00, 0.00e+00, 1.00e+00, 0.00e+00,\n",
       "        7.00e+00],\n",
       "       [5.30e+01, 1.00e+00, 4.00e+00, 1.23e+02, 2.82e+02, 0.00e+00,\n",
       "        0.00e+00, 9.50e+01, 1.00e+00, 2.00e+00, 2.00e+00, 2.00e+00,\n",
       "        7.00e+00],\n",
       "       [4.60e+01, 0.00e+00, 4.00e+00, 1.38e+02, 2.43e+02, 0.00e+00,\n",
       "        2.00e+00, 1.52e+02, 1.00e+00, 0.00e+00, 2.00e+00, 0.00e+00,\n",
       "        3.00e+00],\n",
       "       [5.60e+01, 1.00e+00, 4.00e+00, 1.25e+02, 2.49e+02, 1.00e+00,\n",
       "        2.00e+00, 1.44e+02, 1.00e+00, 1.20e+00, 2.00e+00, 1.00e+00,\n",
       "        3.00e+00],\n",
       "       [5.50e+01, 0.00e+00, 2.00e+00, 1.35e+02, 2.50e+02, 0.00e+00,\n",
       "        2.00e+00, 1.61e+02, 0.00e+00, 1.40e+00, 2.00e+00, 0.00e+00,\n",
       "        3.00e+00],\n",
       "       [6.40e+01, 0.00e+00, 4.00e+00, 1.30e+02, 3.03e+02, 0.00e+00,\n",
       "        0.00e+00, 1.22e+02, 0.00e+00, 2.00e+00, 2.00e+00, 2.00e+00,\n",
       "        3.00e+00],\n",
       "       [5.60e+01, 1.00e+00, 3.00e+00, 1.30e+02, 2.56e+02, 1.00e+00,\n",
       "        2.00e+00, 1.42e+02, 1.00e+00, 6.00e-01, 2.00e+00, 1.00e+00,\n",
       "        6.00e+00],\n",
       "       [5.70e+01, 1.00e+00, 3.00e+00, 1.50e+02, 1.68e+02, 0.00e+00,\n",
       "        0.00e+00, 1.74e+02, 0.00e+00, 1.60e+00, 1.00e+00, 0.00e+00,\n",
       "        3.00e+00],\n",
       "       [6.00e+01, 1.00e+00, 3.00e+00, 1.40e+02, 1.85e+02, 0.00e+00,\n",
       "        2.00e+00, 1.55e+02, 0.00e+00, 3.00e+00, 2.00e+00, 0.00e+00,\n",
       "        3.00e+00],\n",
       "       [6.00e+01, 0.00e+00, 4.00e+00, 1.50e+02, 2.58e+02, 0.00e+00,\n",
       "        2.00e+00, 1.57e+02, 0.00e+00, 2.60e+00, 2.00e+00, 2.00e+00,\n",
       "        7.00e+00],\n",
       "       [6.60e+01, 1.00e+00, 4.00e+00, 1.20e+02, 3.02e+02, 0.00e+00,\n",
       "        2.00e+00, 1.51e+02, 0.00e+00, 4.00e-01, 2.00e+00, 0.00e+00,\n",
       "        3.00e+00],\n",
       "       [5.00e+01, 0.00e+00, 2.00e+00, 1.20e+02, 2.44e+02, 0.00e+00,\n",
       "        0.00e+00, 1.62e+02, 0.00e+00, 1.10e+00, 1.00e+00, 0.00e+00,\n",
       "        3.00e+00],\n",
       "       [7.10e+01, 0.00e+00, 3.00e+00, 1.10e+02, 2.65e+02, 1.00e+00,\n",
       "        2.00e+00, 1.30e+02, 0.00e+00, 0.00e+00, 1.00e+00, 1.00e+00,\n",
       "        3.00e+00],\n",
       "       [5.80e+01, 1.00e+00, 2.00e+00, 1.20e+02, 2.84e+02, 0.00e+00,\n",
       "        2.00e+00, 1.60e+02, 0.00e+00, 1.80e+00, 2.00e+00, 0.00e+00,\n",
       "        3.00e+00],\n",
       "       [4.10e+01, 1.00e+00, 3.00e+00, 1.30e+02, 2.14e+02, 0.00e+00,\n",
       "        2.00e+00, 1.68e+02, 0.00e+00, 2.00e+00, 2.00e+00, 0.00e+00,\n",
       "        3.00e+00],\n",
       "       [4.70e+01, 1.00e+00, 4.00e+00, 1.12e+02, 2.04e+02, 0.00e+00,\n",
       "        0.00e+00, 1.43e+02, 0.00e+00, 1.00e-01, 1.00e+00, 0.00e+00,\n",
       "        3.00e+00],\n",
       "       [6.10e+01, 1.00e+00, 4.00e+00, 1.38e+02, 1.66e+02, 0.00e+00,\n",
       "        2.00e+00, 1.25e+02, 1.00e+00, 3.60e+00, 2.00e+00, 1.00e+00,\n",
       "        3.00e+00],\n",
       "       [5.10e+01, 1.00e+00, 4.00e+00, 1.40e+02, 2.61e+02, 0.00e+00,\n",
       "        2.00e+00, 1.86e+02, 1.00e+00, 0.00e+00, 1.00e+00, 0.00e+00,\n",
       "        3.00e+00],\n",
       "       [4.60e+01, 0.00e+00, 2.00e+00, 1.05e+02, 2.04e+02, 0.00e+00,\n",
       "        0.00e+00, 1.72e+02, 0.00e+00, 0.00e+00, 1.00e+00, 0.00e+00,\n",
       "        3.00e+00],\n",
       "       [6.40e+01, 1.00e+00, 1.00e+00, 1.70e+02, 2.27e+02, 0.00e+00,\n",
       "        2.00e+00, 1.55e+02, 0.00e+00, 6.00e-01, 2.00e+00, 0.00e+00,\n",
       "        7.00e+00],\n",
       "       [6.10e+01, 1.00e+00, 4.00e+00, 1.40e+02, 2.07e+02, 0.00e+00,\n",
       "        2.00e+00, 1.38e+02, 1.00e+00, 1.90e+00, 1.00e+00, 1.00e+00,\n",
       "        7.00e+00],\n",
       "       [6.40e+01, 1.00e+00, 4.00e+00, 1.20e+02, 2.46e+02, 0.00e+00,\n",
       "        2.00e+00, 9.60e+01, 1.00e+00, 2.20e+00, 3.00e+00, 1.00e+00,\n",
       "        3.00e+00],\n",
       "       [5.40e+01, 1.00e+00, 4.00e+00, 1.24e+02, 2.66e+02, 0.00e+00,\n",
       "        2.00e+00, 1.09e+02, 1.00e+00, 2.20e+00, 2.00e+00, 1.00e+00,\n",
       "        7.00e+00],\n",
       "       [6.80e+01, 0.00e+00, 3.00e+00, 1.20e+02, 2.11e+02, 0.00e+00,\n",
       "        2.00e+00, 1.15e+02, 0.00e+00, 1.50e+00, 2.00e+00, 0.00e+00,\n",
       "        3.00e+00],\n",
       "       [4.20e+01, 0.00e+00, 3.00e+00, 1.20e+02, 2.09e+02, 0.00e+00,\n",
       "        0.00e+00, 1.73e+02, 0.00e+00, 0.00e+00, 2.00e+00, 0.00e+00,\n",
       "        3.00e+00],\n",
       "       [4.30e+01, 0.00e+00, 3.00e+00, 1.22e+02, 2.13e+02, 0.00e+00,\n",
       "        0.00e+00, 1.65e+02, 0.00e+00, 2.00e-01, 2.00e+00, 0.00e+00,\n",
       "        3.00e+00],\n",
       "       [6.30e+01, 1.00e+00, 4.00e+00, 1.30e+02, 2.54e+02, 0.00e+00,\n",
       "        2.00e+00, 1.47e+02, 0.00e+00, 1.40e+00, 2.00e+00, 1.00e+00,\n",
       "        7.00e+00],\n",
       "       [5.80e+01, 1.00e+00, 4.00e+00, 1.25e+02, 3.00e+02, 0.00e+00,\n",
       "        2.00e+00, 1.71e+02, 0.00e+00, 0.00e+00, 1.00e+00, 2.00e+00,\n",
       "        7.00e+00],\n",
       "       [4.10e+01, 0.00e+00, 2.00e+00, 1.26e+02, 3.06e+02, 0.00e+00,\n",
       "        0.00e+00, 1.63e+02, 0.00e+00, 0.00e+00, 1.00e+00, 0.00e+00,\n",
       "        3.00e+00],\n",
       "       [4.10e+01, 1.00e+00, 2.00e+00, 1.10e+02, 2.35e+02, 0.00e+00,\n",
       "        0.00e+00, 1.53e+02, 0.00e+00, 0.00e+00, 1.00e+00, 0.00e+00,\n",
       "        3.00e+00],\n",
       "       [5.30e+01, 0.00e+00, 4.00e+00, 1.30e+02, 2.64e+02, 0.00e+00,\n",
       "        2.00e+00, 1.43e+02, 0.00e+00, 4.00e-01, 2.00e+00, 0.00e+00,\n",
       "        3.00e+00],\n",
       "       [5.20e+01, 1.00e+00, 4.00e+00, 1.12e+02, 2.30e+02, 0.00e+00,\n",
       "        0.00e+00, 1.60e+02, 0.00e+00, 0.00e+00, 1.00e+00, 1.00e+00,\n",
       "        3.00e+00],\n",
       "       [5.40e+01, 0.00e+00, 2.00e+00, 1.32e+02, 2.88e+02, 1.00e+00,\n",
       "        2.00e+00, 1.59e+02, 1.00e+00, 0.00e+00, 1.00e+00, 1.00e+00,\n",
       "        3.00e+00],\n",
       "       [5.60e+01, 1.00e+00, 2.00e+00, 1.20e+02, 2.36e+02, 0.00e+00,\n",
       "        0.00e+00, 1.78e+02, 0.00e+00, 8.00e-01, 1.00e+00, 0.00e+00,\n",
       "        3.00e+00],\n",
       "       [5.10e+01, 1.00e+00, 1.00e+00, 1.25e+02, 2.13e+02, 0.00e+00,\n",
       "        2.00e+00, 1.25e+02, 1.00e+00, 1.40e+00, 1.00e+00, 1.00e+00,\n",
       "        3.00e+00],\n",
       "       [6.20e+01, 1.00e+00, 3.00e+00, 1.30e+02, 2.31e+02, 0.00e+00,\n",
       "        0.00e+00, 1.46e+02, 0.00e+00, 1.80e+00, 2.00e+00, 3.00e+00,\n",
       "        7.00e+00],\n",
       "       [5.90e+01, 1.00e+00, 1.00e+00, 1.34e+02, 2.04e+02, 0.00e+00,\n",
       "        0.00e+00, 1.62e+02, 0.00e+00, 8.00e-01, 1.00e+00, 2.00e+00,\n",
       "        3.00e+00],\n",
       "       [4.40e+01, 1.00e+00, 3.00e+00, 1.30e+02, 2.33e+02, 0.00e+00,\n",
       "        0.00e+00, 1.79e+02, 1.00e+00, 4.00e-01, 1.00e+00, 0.00e+00,\n",
       "        3.00e+00],\n",
       "       [4.70e+01, 1.00e+00, 3.00e+00, 1.08e+02, 2.43e+02, 0.00e+00,\n",
       "        0.00e+00, 1.52e+02, 0.00e+00, 0.00e+00, 1.00e+00, 0.00e+00,\n",
       "        3.00e+00],\n",
       "       [5.80e+01, 1.00e+00, 3.00e+00, 1.40e+02, 2.11e+02, 1.00e+00,\n",
       "        2.00e+00, 1.65e+02, 0.00e+00, 0.00e+00, 1.00e+00, 0.00e+00,\n",
       "        3.00e+00],\n",
       "       [5.40e+01, 1.00e+00, 2.00e+00, 1.92e+02, 2.83e+02, 0.00e+00,\n",
       "        2.00e+00, 1.95e+02, 0.00e+00, 0.00e+00, 1.00e+00, 1.00e+00,\n",
       "        7.00e+00],\n",
       "       [5.80e+01, 1.00e+00, 4.00e+00, 1.00e+02, 2.34e+02, 0.00e+00,\n",
       "        0.00e+00, 1.56e+02, 0.00e+00, 1.00e-01, 1.00e+00, 1.00e+00,\n",
       "        7.00e+00],\n",
       "       [5.70e+01, 0.00e+00, 4.00e+00, 1.20e+02, 3.54e+02, 0.00e+00,\n",
       "        0.00e+00, 1.63e+02, 1.00e+00, 6.00e-01, 1.00e+00, 0.00e+00,\n",
       "        3.00e+00],\n",
       "       [5.80e+01, 1.00e+00, 3.00e+00, 1.12e+02, 2.30e+02, 0.00e+00,\n",
       "        2.00e+00, 1.65e+02, 0.00e+00, 2.50e+00, 2.00e+00, 1.00e+00,\n",
       "        7.00e+00],\n",
       "       [6.20e+01, 0.00e+00, 4.00e+00, 1.24e+02, 2.09e+02, 0.00e+00,\n",
       "        0.00e+00, 1.63e+02, 0.00e+00, 0.00e+00, 1.00e+00, 0.00e+00,\n",
       "        3.00e+00],\n",
       "       [5.10e+01, 1.00e+00, 3.00e+00, 1.00e+02, 2.22e+02, 0.00e+00,\n",
       "        0.00e+00, 1.43e+02, 1.00e+00, 1.20e+00, 2.00e+00, 0.00e+00,\n",
       "        3.00e+00],\n",
       "       [5.40e+01, 0.00e+00, 3.00e+00, 1.35e+02, 3.04e+02, 1.00e+00,\n",
       "        0.00e+00, 1.70e+02, 0.00e+00, 0.00e+00, 1.00e+00, 0.00e+00,\n",
       "        3.00e+00],\n",
       "       [6.50e+01, 1.00e+00, 1.00e+00, 1.38e+02, 2.82e+02, 1.00e+00,\n",
       "        2.00e+00, 1.74e+02, 0.00e+00, 1.40e+00, 2.00e+00, 1.00e+00,\n",
       "        3.00e+00],\n",
       "       [6.70e+01, 0.00e+00, 3.00e+00, 1.52e+02, 2.77e+02, 0.00e+00,\n",
       "        0.00e+00, 1.72e+02, 0.00e+00, 0.00e+00, 1.00e+00, 1.00e+00,\n",
       "        3.00e+00],\n",
       "       [5.70e+01, 1.00e+00, 4.00e+00, 1.65e+02, 2.89e+02, 1.00e+00,\n",
       "        2.00e+00, 1.24e+02, 0.00e+00, 1.00e+00, 2.00e+00, 3.00e+00,\n",
       "        7.00e+00],\n",
       "       [3.80e+01, 1.00e+00, 3.00e+00, 1.38e+02, 1.75e+02, 0.00e+00,\n",
       "        0.00e+00, 1.73e+02, 0.00e+00, 0.00e+00, 1.00e+00, 0.00e+00,\n",
       "        3.00e+00],\n",
       "       [5.80e+01, 0.00e+00, 3.00e+00, 1.20e+02, 3.40e+02, 0.00e+00,\n",
       "        0.00e+00, 1.72e+02, 0.00e+00, 0.00e+00, 1.00e+00, 0.00e+00,\n",
       "        3.00e+00],\n",
       "       [6.10e+01, 1.00e+00, 4.00e+00, 1.20e+02, 2.60e+02, 0.00e+00,\n",
       "        0.00e+00, 1.40e+02, 1.00e+00, 3.60e+00, 2.00e+00, 1.00e+00,\n",
       "        7.00e+00],\n",
       "       [5.10e+01, 0.00e+00, 3.00e+00, 1.30e+02, 2.56e+02, 0.00e+00,\n",
       "        2.00e+00, 1.49e+02, 0.00e+00, 5.00e-01, 1.00e+00, 0.00e+00,\n",
       "        3.00e+00]])"
      ]
     },
     "execution_count": 148,
     "metadata": {},
     "output_type": "execute_result"
    }
   ],
   "source": [
    "X_test"
   ]
  },
  {
   "cell_type": "code",
   "execution_count": 55,
   "metadata": {},
   "outputs": [
    {
     "name": "stderr",
     "output_type": "stream",
     "text": [
      "C:\\Users\\sra09\\AppData\\Local\\Continuum\\anaconda3\\lib\\site-packages\\dask\\config.py:168: YAMLLoadWarning: calling yaml.load() without Loader=... is deprecated, as the default Loader is unsafe. Please read https://msg.pyyaml.org/load for full details.\n",
      "  data = yaml.load(f.read()) or {}\n",
      "C:\\Users\\sra09\\AppData\\Local\\Continuum\\anaconda3\\lib\\site-packages\\distributed\\config.py:20: YAMLLoadWarning: calling yaml.load() without Loader=... is deprecated, as the default Loader is unsafe. Please read https://msg.pyyaml.org/load for full details.\n",
      "  defaults = yaml.load(f)\n",
      "Using TensorFlow backend.\n"
     ]
    },
    {
     "data": {
      "text/html": [
       "\n",
       "    <style>\n",
       "    table.eli5-weights tr:hover {\n",
       "        filter: brightness(85%);\n",
       "    }\n",
       "</style>\n",
       "\n",
       "\n",
       "\n",
       "    \n",
       "\n",
       "    \n",
       "\n",
       "    \n",
       "\n",
       "    \n",
       "\n",
       "    \n",
       "\n",
       "    \n",
       "\n",
       "\n",
       "    \n",
       "\n",
       "    \n",
       "\n",
       "    \n",
       "\n",
       "    \n",
       "\n",
       "    \n",
       "\n",
       "    \n",
       "\n",
       "\n",
       "    \n",
       "\n",
       "    \n",
       "\n",
       "    \n",
       "\n",
       "    \n",
       "\n",
       "    \n",
       "        <table class=\"eli5-weights eli5-feature-importances\" style=\"border-collapse: collapse; border: none; margin-top: 0em; table-layout: auto;\">\n",
       "    <thead>\n",
       "    <tr style=\"border: none;\">\n",
       "        <th style=\"padding: 0 1em 0 0.5em; text-align: right; border: none;\">Weight</th>\n",
       "        <th style=\"padding: 0 0.5em 0 0.5em; text-align: left; border: none;\">Feature</th>\n",
       "    </tr>\n",
       "    </thead>\n",
       "    <tbody>\n",
       "    \n",
       "        <tr style=\"background-color: hsl(120, 100.00%, 80.00%); border: none;\">\n",
       "            <td style=\"padding: 0 1em 0 0.5em; text-align: right; border: none;\">\n",
       "                0.0754\n",
       "                \n",
       "                    &plusmn; 0.0262\n",
       "                \n",
       "            </td>\n",
       "            <td style=\"padding: 0 0.5em 0 0.5em; text-align: left; border: none;\">\n",
       "                thal\n",
       "            </td>\n",
       "        </tr>\n",
       "    \n",
       "        <tr style=\"background-color: hsl(120, 100.00%, 85.17%); border: none;\">\n",
       "            <td style=\"padding: 0 1em 0 0.5em; text-align: right; border: none;\">\n",
       "                0.0492\n",
       "                \n",
       "                    &plusmn; 0.0587\n",
       "                \n",
       "            </td>\n",
       "            <td style=\"padding: 0 0.5em 0 0.5em; text-align: left; border: none;\">\n",
       "                thalach\n",
       "            </td>\n",
       "        </tr>\n",
       "    \n",
       "        <tr style=\"background-color: hsl(120, 100.00%, 87.32%); border: none;\">\n",
       "            <td style=\"padding: 0 1em 0 0.5em; text-align: right; border: none;\">\n",
       "                0.0393\n",
       "                \n",
       "                    &plusmn; 0.0572\n",
       "                \n",
       "            </td>\n",
       "            <td style=\"padding: 0 0.5em 0 0.5em; text-align: left; border: none;\">\n",
       "                ca\n",
       "            </td>\n",
       "        </tr>\n",
       "    \n",
       "        <tr style=\"background-color: hsl(120, 100.00%, 88.07%); border: none;\">\n",
       "            <td style=\"padding: 0 1em 0 0.5em; text-align: right; border: none;\">\n",
       "                0.0361\n",
       "                \n",
       "                    &plusmn; 0.0245\n",
       "                \n",
       "            </td>\n",
       "            <td style=\"padding: 0 0.5em 0 0.5em; text-align: left; border: none;\">\n",
       "                cp\n",
       "            </td>\n",
       "        </tr>\n",
       "    \n",
       "        <tr style=\"background-color: hsl(120, 100.00%, 94.12%); border: none;\">\n",
       "            <td style=\"padding: 0 1em 0 0.5em; text-align: right; border: none;\">\n",
       "                0.0131\n",
       "                \n",
       "                    &plusmn; 0.0245\n",
       "                \n",
       "            </td>\n",
       "            <td style=\"padding: 0 0.5em 0 0.5em; text-align: left; border: none;\">\n",
       "                age\n",
       "            </td>\n",
       "        </tr>\n",
       "    \n",
       "        <tr style=\"background-color: hsl(120, 100.00%, 97.77%); border: none;\">\n",
       "            <td style=\"padding: 0 1em 0 0.5em; text-align: right; border: none;\">\n",
       "                0.0033\n",
       "                \n",
       "                    &plusmn; 0.0131\n",
       "                \n",
       "            </td>\n",
       "            <td style=\"padding: 0 0.5em 0 0.5em; text-align: left; border: none;\">\n",
       "                exang\n",
       "            </td>\n",
       "        </tr>\n",
       "    \n",
       "        <tr style=\"background-color: hsl(0, 100.00%, 100.00%); border: none;\">\n",
       "            <td style=\"padding: 0 1em 0 0.5em; text-align: right; border: none;\">\n",
       "                0\n",
       "                \n",
       "                    &plusmn; 0.0000\n",
       "                \n",
       "            </td>\n",
       "            <td style=\"padding: 0 0.5em 0 0.5em; text-align: left; border: none;\">\n",
       "                slope\n",
       "            </td>\n",
       "        </tr>\n",
       "    \n",
       "        <tr style=\"background-color: hsl(0, 100.00%, 100.00%); border: none;\">\n",
       "            <td style=\"padding: 0 1em 0 0.5em; text-align: right; border: none;\">\n",
       "                0\n",
       "                \n",
       "                    &plusmn; 0.0000\n",
       "                \n",
       "            </td>\n",
       "            <td style=\"padding: 0 0.5em 0 0.5em; text-align: left; border: none;\">\n",
       "                restecg\n",
       "            </td>\n",
       "        </tr>\n",
       "    \n",
       "        <tr style=\"background-color: hsl(0, 100.00%, 100.00%); border: none;\">\n",
       "            <td style=\"padding: 0 1em 0 0.5em; text-align: right; border: none;\">\n",
       "                0\n",
       "                \n",
       "                    &plusmn; 0.0000\n",
       "                \n",
       "            </td>\n",
       "            <td style=\"padding: 0 0.5em 0 0.5em; text-align: left; border: none;\">\n",
       "                fbs\n",
       "            </td>\n",
       "        </tr>\n",
       "    \n",
       "        <tr style=\"background-color: hsl(0, 100.00%, 100.00%); border: none;\">\n",
       "            <td style=\"padding: 0 1em 0 0.5em; text-align: right; border: none;\">\n",
       "                0\n",
       "                \n",
       "                    &plusmn; 0.0000\n",
       "                \n",
       "            </td>\n",
       "            <td style=\"padding: 0 0.5em 0 0.5em; text-align: left; border: none;\">\n",
       "                sex\n",
       "            </td>\n",
       "        </tr>\n",
       "    \n",
       "        <tr style=\"background-color: hsl(0, 100.00%, 95.19%); border: none;\">\n",
       "            <td style=\"padding: 0 1em 0 0.5em; text-align: right; border: none;\">\n",
       "                -0.0098\n",
       "                \n",
       "                    &plusmn; 0.0161\n",
       "                \n",
       "            </td>\n",
       "            <td style=\"padding: 0 0.5em 0 0.5em; text-align: left; border: none;\">\n",
       "                oldpeak\n",
       "            </td>\n",
       "        </tr>\n",
       "    \n",
       "        <tr style=\"background-color: hsl(0, 100.00%, 95.19%); border: none;\">\n",
       "            <td style=\"padding: 0 1em 0 0.5em; text-align: right; border: none;\">\n",
       "                -0.0098\n",
       "                \n",
       "                    &plusmn; 0.0161\n",
       "                \n",
       "            </td>\n",
       "            <td style=\"padding: 0 0.5em 0 0.5em; text-align: left; border: none;\">\n",
       "                chol\n",
       "            </td>\n",
       "        </tr>\n",
       "    \n",
       "        <tr style=\"background-color: hsl(0, 100.00%, 90.45%); border: none;\">\n",
       "            <td style=\"padding: 0 1em 0 0.5em; text-align: right; border: none;\">\n",
       "                -0.0262\n",
       "                \n",
       "                    &plusmn; 0.0161\n",
       "                \n",
       "            </td>\n",
       "            <td style=\"padding: 0 0.5em 0 0.5em; text-align: left; border: none;\">\n",
       "                trestbps\n",
       "            </td>\n",
       "        </tr>\n",
       "    \n",
       "    \n",
       "    </tbody>\n",
       "</table>\n",
       "    \n",
       "\n",
       "    \n",
       "\n",
       "\n",
       "    \n",
       "\n",
       "    \n",
       "\n",
       "    \n",
       "\n",
       "    \n",
       "\n",
       "    \n",
       "\n",
       "    \n",
       "\n",
       "\n",
       "\n"
      ],
      "text/plain": [
       "<IPython.core.display.HTML object>"
      ]
     },
     "execution_count": 55,
     "metadata": {},
     "output_type": "execute_result"
    }
   ],
   "source": [
    "################################## feature importance\n",
    "import eli5\n",
    "from eli5.sklearn import PermutationImportance\n",
    "perm_imp_lr = PermutationImportance(classifier_logistic, random_state=42,scoring='accuracy').fit(X_test, y_test)\n",
    "eli5.show_weights(perm_imp_lr, feature_names = data.iloc[:,:-1].columns.tolist(),top=50)"
   ]
  },
  {
   "cell_type": "code",
   "execution_count": 56,
   "metadata": {},
   "outputs": [
    {
     "data": {
      "text/plain": [
       "<matplotlib.axes._subplots.AxesSubplot at 0x228468b5f60>"
      ]
     },
     "execution_count": 56,
     "metadata": {},
     "output_type": "execute_result"
    },
    {
     "data": {
      "image/png": "[encoded data removed]",
      "text/plain": [
       "<Figure size 432x432 with 1 Axes>"
      ]
     },
     "metadata": {
      "needs_background": "light"
     },
     "output_type": "display_data"
    }
   ],
   "source": [
    "import seaborn as sns\n",
    "sns.regplot(x='thal', y='num', data=data, logistic=True)"
   ]
  },
  {
   "cell_type": "code",
   "execution_count": 57,
   "metadata": {},
   "outputs": [
    {
     "data": {
      "text/plain": [
       "<matplotlib.axes._subplots.AxesSubplot at 0x22846edc518>"
      ]
     },
     "execution_count": 57,
     "metadata": {},
     "output_type": "execute_result"
    },
    {
     "data": {
      "image/png": "[encoded data removed]",
      "text/plain": [
       "<Figure size 432x432 with 1 Axes>"
      ]
     },
     "metadata": {
      "needs_background": "light"
     },
     "output_type": "display_data"
    }
   ],
   "source": [
    "sns.regplot(x='trestbps', y='num', data=data, logistic=True)"
   ]
  },
  {
   "cell_type": "code",
   "execution_count": 60,
   "metadata": {},
   "outputs": [
    {
     "name": "stdout",
     "output_type": "stream",
     "text": [
      "Fitting 3 folds for each of 100 candidates, totalling 300 fits\n"
     ]
    },
    {
     "name": "stderr",
     "output_type": "stream",
     "text": [
      "[Parallel(n_jobs=-1)]: Using backend LokyBackend with 8 concurrent workers.\n",
      "[Parallel(n_jobs=-1)]: Done  25 tasks      | elapsed:    8.5s\n",
      "[Parallel(n_jobs=-1)]: Done 146 tasks      | elapsed:   37.2s\n",
      "[Parallel(n_jobs=-1)]: Done 300 out of 300 | elapsed:  1.3min finished\n"
     ]
    },
    {
     "data": {
      "text/plain": [
       "{'n_estimators': 2000,\n",
       " 'min_samples_split': 5,\n",
       " 'min_samples_leaf': 1,\n",
       " 'max_features': 'sqrt',\n",
       " 'max_depth': 10,\n",
       " 'bootstrap': True}"
      ]
     },
     "execution_count": 60,
     "metadata": {},
     "output_type": "execute_result"
    }
   ],
   "source": [
    "################################## hyperparameter tuning with Grid Search\n",
    "from sklearn.model_selection import RandomizedSearchCV\n",
    "import numpy as np\n",
    "from sklearn.ensemble import RandomForestClassifier\n",
    "n_estimators = [int(x) for x in np.linspace(start=200, stop=2000, num=10)]\n",
    "max_features = ['auto', 'sqrt']\n",
    "max_depth = [int(x) for x in np.linspace(10, 110, num=11)]\n",
    "max_depth.append(None)\n",
    "min_samples_split = [2, 5, 10]\n",
    "min_samples_leaf = [1, 2, 4]\n",
    "bootstrap = [True, False]\n",
    "\n",
    "random_grid = {'n_estimators': n_estimators, 'max_features': max_features,\n",
    "               'max_depth': max_depth, 'min_samples_split': min_samples_split,\n",
    "               'min_samples_leaf': min_samples_leaf, 'bootstrap': bootstrap}\n",
    "\n",
    "rand_forest = RandomForestClassifier(random_state=42)\n",
    "\n",
    "rf_random = RandomizedSearchCV(estimator=rand_forest, param_distributions=random_grid, n_iter=100, cv=3, \n",
    "                               verbose=2, random_state=42, n_jobs=-1)\n",
    "rf_random.fit(X_train, y_train)\n",
    "rf_random.best_params_"
   ]
  },
  {
   "cell_type": "code",
   "execution_count": 61,
   "metadata": {},
   "outputs": [
    {
     "name": "stdout",
     "output_type": "stream",
     "text": [
      "\n",
      "Accuracy for training set for Random Forest = 0.987603305785124\n",
      "Accuracy for test set for Random Forest = 0.7540983606557377\n"
     ]
    }
   ],
   "source": [
    "#########################################  Random Forest  #############################################################\n",
    "\n",
    "classifier_rf = RandomForestClassifier(n_estimators= 2000,\n",
    " min_samples_split = 5,\n",
    " min_samples_leaf = 1,\n",
    " max_features = 'sqrt',\n",
    " max_depth = 10,\n",
    " bootstrap = True)\n",
    "classifier_rf.fit(X_train, y_train)\n",
    "\n",
    "# Predicting the Test set results\n",
    "y_pred = classifier_rf.predict(X_test)\n",
    "\n",
    "from sklearn.metrics import confusion_matrix\n",
    "cm_test = confusion_matrix(y_pred, y_test)\n",
    "\n",
    "y_pred_train = classifier_rf.predict(X_train)\n",
    "cm_train = confusion_matrix(y_pred_train, y_train)\n",
    "\n",
    "print()\n",
    "print('Accuracy for training set for Random Forest = {}'.format((cm_train[0][0] + cm_train[1][1])/len(y_train)))\n",
    "print('Accuracy for test set for Random Forest = {}'.format((cm_test[0][0] + cm_test[1][1])/len(y_test)))"
   ]
  },
  {
   "cell_type": "code",
   "execution_count": 203,
   "metadata": {},
   "outputs": [
    {
     "data": {
      "text/plain": [
       "array([0, 0, 1, 1, 0, 0, 1, 1, 1, 0, 1, 0, 1, 1, 0, 0, 1, 0, 0, 0, 0, 0,\n",
       "       0, 1, 0, 0, 1, 1, 1, 1, 0, 0, 0, 1, 1, 0, 0, 0, 0, 0, 0, 0, 1, 0,\n",
       "       0, 0, 0, 0, 0, 1, 1, 0, 0, 0, 0, 0, 1, 0, 0, 1, 0], dtype=int64)"
      ]
     },
     "execution_count": 203,
     "metadata": {},
     "output_type": "execute_result"
    }
   ],
   "source": [
    "y_pred"
   ]
  },
  {
   "cell_type": "code",
   "execution_count": 62,
   "metadata": {},
   "outputs": [
    {
     "data": {
      "text/html": [
       "\n",
       "    <style>\n",
       "    table.eli5-weights tr:hover {\n",
       "        filter: brightness(85%);\n",
       "    }\n",
       "</style>\n",
       "\n",
       "\n",
       "\n",
       "    \n",
       "\n",
       "    \n",
       "\n",
       "    \n",
       "\n",
       "    \n",
       "\n",
       "    \n",
       "\n",
       "    \n",
       "\n",
       "\n",
       "    \n",
       "\n",
       "    \n",
       "\n",
       "    \n",
       "\n",
       "    \n",
       "\n",
       "    \n",
       "\n",
       "    \n",
       "\n",
       "\n",
       "    \n",
       "\n",
       "    \n",
       "\n",
       "    \n",
       "\n",
       "    \n",
       "\n",
       "    \n",
       "        <table class=\"eli5-weights eli5-feature-importances\" style=\"border-collapse: collapse; border: none; margin-top: 0em; table-layout: auto;\">\n",
       "    <thead>\n",
       "    <tr style=\"border: none;\">\n",
       "        <th style=\"padding: 0 1em 0 0.5em; text-align: right; border: none;\">Weight</th>\n",
       "        <th style=\"padding: 0 0.5em 0 0.5em; text-align: left; border: none;\">Feature</th>\n",
       "    </tr>\n",
       "    </thead>\n",
       "    <tbody>\n",
       "    \n",
       "        <tr style=\"background-color: hsl(120, 100.00%, 80.00%); border: none;\">\n",
       "            <td style=\"padding: 0 1em 0 0.5em; text-align: right; border: none;\">\n",
       "                0.0525\n",
       "                \n",
       "                    &plusmn; 0.0321\n",
       "                \n",
       "            </td>\n",
       "            <td style=\"padding: 0 0.5em 0 0.5em; text-align: left; border: none;\">\n",
       "                thal\n",
       "            </td>\n",
       "        </tr>\n",
       "    \n",
       "        <tr style=\"background-color: hsl(120, 100.00%, 82.71%); border: none;\">\n",
       "            <td style=\"padding: 0 1em 0 0.5em; text-align: right; border: none;\">\n",
       "                0.0426\n",
       "                \n",
       "                    &plusmn; 0.0608\n",
       "                \n",
       "            </td>\n",
       "            <td style=\"padding: 0 0.5em 0 0.5em; text-align: left; border: none;\">\n",
       "                ca\n",
       "            </td>\n",
       "        </tr>\n",
       "    \n",
       "        <tr style=\"background-color: hsl(120, 100.00%, 91.14%); border: none;\">\n",
       "            <td style=\"padding: 0 1em 0 0.5em; text-align: right; border: none;\">\n",
       "                0.0164\n",
       "                \n",
       "                    &plusmn; 0.0359\n",
       "                \n",
       "            </td>\n",
       "            <td style=\"padding: 0 0.5em 0 0.5em; text-align: left; border: none;\">\n",
       "                cp\n",
       "            </td>\n",
       "        </tr>\n",
       "    \n",
       "        <tr style=\"background-color: hsl(120, 100.00%, 93.80%); border: none;\">\n",
       "            <td style=\"padding: 0 1em 0 0.5em; text-align: right; border: none;\">\n",
       "                0.0098\n",
       "                \n",
       "                    &plusmn; 0.0161\n",
       "                \n",
       "            </td>\n",
       "            <td style=\"padding: 0 0.5em 0 0.5em; text-align: left; border: none;\">\n",
       "                sex\n",
       "            </td>\n",
       "        </tr>\n",
       "    \n",
       "        <tr style=\"background-color: hsl(0, 100.00%, 97.13%); border: none;\">\n",
       "            <td style=\"padding: 0 1em 0 0.5em; text-align: right; border: none;\">\n",
       "                -0.0033\n",
       "                \n",
       "                    &plusmn; 0.0382\n",
       "                \n",
       "            </td>\n",
       "            <td style=\"padding: 0 0.5em 0 0.5em; text-align: left; border: none;\">\n",
       "                thalach\n",
       "            </td>\n",
       "        </tr>\n",
       "    \n",
       "        <tr style=\"background-color: hsl(0, 100.00%, 95.33%); border: none;\">\n",
       "            <td style=\"padding: 0 1em 0 0.5em; text-align: right; border: none;\">\n",
       "                -0.0066\n",
       "                \n",
       "                    &plusmn; 0.0161\n",
       "                \n",
       "            </td>\n",
       "            <td style=\"padding: 0 0.5em 0 0.5em; text-align: left; border: none;\">\n",
       "                fbs\n",
       "            </td>\n",
       "        </tr>\n",
       "    \n",
       "        <tr style=\"background-color: hsl(0, 100.00%, 89.93%); border: none;\">\n",
       "            <td style=\"padding: 0 1em 0 0.5em; text-align: right; border: none;\">\n",
       "                -0.0197\n",
       "                \n",
       "                    &plusmn; 0.0131\n",
       "                \n",
       "            </td>\n",
       "            <td style=\"padding: 0 0.5em 0 0.5em; text-align: left; border: none;\">\n",
       "                chol\n",
       "            </td>\n",
       "        </tr>\n",
       "    \n",
       "        <tr style=\"background-color: hsl(0, 100.00%, 88.79%); border: none;\">\n",
       "            <td style=\"padding: 0 1em 0 0.5em; text-align: right; border: none;\">\n",
       "                -0.0230\n",
       "                \n",
       "                    &plusmn; 0.0262\n",
       "                \n",
       "            </td>\n",
       "            <td style=\"padding: 0 0.5em 0 0.5em; text-align: left; border: none;\">\n",
       "                oldpeak\n",
       "            </td>\n",
       "        </tr>\n",
       "    \n",
       "        <tr style=\"background-color: hsl(0, 100.00%, 88.79%); border: none;\">\n",
       "            <td style=\"padding: 0 1em 0 0.5em; text-align: right; border: none;\">\n",
       "                -0.0230\n",
       "                \n",
       "                    &plusmn; 0.0262\n",
       "                \n",
       "            </td>\n",
       "            <td style=\"padding: 0 0.5em 0 0.5em; text-align: left; border: none;\">\n",
       "                restecg\n",
       "            </td>\n",
       "        </tr>\n",
       "    \n",
       "        <tr style=\"background-color: hsl(0, 100.00%, 88.79%); border: none;\">\n",
       "            <td style=\"padding: 0 1em 0 0.5em; text-align: right; border: none;\">\n",
       "                -0.0230\n",
       "                \n",
       "                    &plusmn; 0.0262\n",
       "                \n",
       "            </td>\n",
       "            <td style=\"padding: 0 0.5em 0 0.5em; text-align: left; border: none;\">\n",
       "                trestbps\n",
       "            </td>\n",
       "        </tr>\n",
       "    \n",
       "        <tr style=\"background-color: hsl(0, 100.00%, 88.79%); border: none;\">\n",
       "            <td style=\"padding: 0 1em 0 0.5em; text-align: right; border: none;\">\n",
       "                -0.0230\n",
       "                \n",
       "                    &plusmn; 0.0393\n",
       "                \n",
       "            </td>\n",
       "            <td style=\"padding: 0 0.5em 0 0.5em; text-align: left; border: none;\">\n",
       "                age\n",
       "            </td>\n",
       "        </tr>\n",
       "    \n",
       "        <tr style=\"background-color: hsl(0, 100.00%, 88.79%); border: none;\">\n",
       "            <td style=\"padding: 0 1em 0 0.5em; text-align: right; border: none;\">\n",
       "                -0.0230\n",
       "                \n",
       "                    &plusmn; 0.0491\n",
       "                \n",
       "            </td>\n",
       "            <td style=\"padding: 0 0.5em 0 0.5em; text-align: left; border: none;\">\n",
       "                exang\n",
       "            </td>\n",
       "        </tr>\n",
       "    \n",
       "        <tr style=\"background-color: hsl(0, 100.00%, 87.69%); border: none;\">\n",
       "            <td style=\"padding: 0 1em 0 0.5em; text-align: right; border: none;\">\n",
       "                -0.0262\n",
       "                \n",
       "                    &plusmn; 0.0161\n",
       "                \n",
       "            </td>\n",
       "            <td style=\"padding: 0 0.5em 0 0.5em; text-align: left; border: none;\">\n",
       "                slope\n",
       "            </td>\n",
       "        </tr>\n",
       "    \n",
       "    \n",
       "    </tbody>\n",
       "</table>\n",
       "    \n",
       "\n",
       "    \n",
       "\n",
       "\n",
       "    \n",
       "\n",
       "    \n",
       "\n",
       "    \n",
       "\n",
       "    \n",
       "\n",
       "    \n",
       "\n",
       "    \n",
       "\n",
       "\n",
       "\n"
      ],
      "text/plain": [
       "<IPython.core.display.HTML object>"
      ]
     },
     "execution_count": 62,
     "metadata": {},
     "output_type": "execute_result"
    }
   ],
   "source": [
    "perm_imp_rf = PermutationImportance(classifier_rf, random_state=42,scoring='accuracy').fit(X_test, y_test)\n",
    "eli5.show_weights(perm_imp_rf, feature_names = data.iloc[:,:-1].columns.tolist(),top=50)"
   ]
  },
  {
   "cell_type": "code",
   "execution_count": 63,
   "metadata": {},
   "outputs": [
    {
     "data": {
      "text/plain": [
       "0.813562020552902"
      ]
     },
     "execution_count": 63,
     "metadata": {},
     "output_type": "execute_result"
    }
   ],
   "source": [
    "################################## k fold cross validation\n",
    "results = cross_val_score(classifier_rf, X_train, y_train, cv=skf, n_jobs=1, scoring='accuracy')\n",
    "results.mean()"
   ]
  },
  {
   "cell_type": "code",
   "execution_count": 65,
   "metadata": {},
   "outputs": [
    {
     "name": "stdout",
     "output_type": "stream",
     "text": [
      "\n",
      "Accuracy for training set for XGBoost = 1.0\n",
      "Accuracy for test set for XGBoost = 0.7540983606557377\n"
     ]
    }
   ],
   "source": [
    "###############################################################################\n",
    "# applying XGBoost\n",
    "\n",
    "#from sklearn.model_selection import train_test_split\n",
    "#X_train, X_test, y_train, y_test = train_test_split(X, target, test_size = 0.20, random_state = 0)\n",
    "\n",
    "from xgboost import XGBClassifier\n",
    "xg = XGBClassifier()\n",
    "xg.fit(X_train, y_train)\n",
    "y_pred = xg.predict(X_test)\n",
    "\n",
    "from sklearn.metrics import confusion_matrix\n",
    "cm_test = confusion_matrix(y_pred, y_test)\n",
    "\n",
    "y_pred_train = xg.predict(X_train)\n",
    "\n",
    "for i in range(0, len(y_pred_train)):\n",
    "    if y_pred_train[i]>= 0.5:       # setting threshold to .5\n",
    "       y_pred_train[i]=1\n",
    "    else:  \n",
    "       y_pred_train[i]=0\n",
    "       \n",
    "cm_train = confusion_matrix(y_pred_train, y_train)\n",
    "print()\n",
    "print('Accuracy for training set for XGBoost = {}'.format((cm_train[0][0] + cm_train[1][1])/len(y_train)))\n",
    "print('Accuracy for test set for XGBoost = {}'.format((cm_test[0][0] + cm_test[1][1])/len(y_test)))"
   ]
  },
  {
   "cell_type": "code",
   "execution_count": 66,
   "metadata": {},
   "outputs": [
    {
     "data": {
      "text/html": [
       "\n",
       "    <style>\n",
       "    table.eli5-weights tr:hover {\n",
       "        filter: brightness(85%);\n",
       "    }\n",
       "</style>\n",
       "\n",
       "\n",
       "\n",
       "    \n",
       "\n",
       "    \n",
       "\n",
       "    \n",
       "\n",
       "    \n",
       "\n",
       "    \n",
       "\n",
       "    \n",
       "\n",
       "\n",
       "    \n",
       "\n",
       "    \n",
       "\n",
       "    \n",
       "\n",
       "    \n",
       "\n",
       "    \n",
       "\n",
       "    \n",
       "\n",
       "\n",
       "    \n",
       "\n",
       "    \n",
       "\n",
       "    \n",
       "\n",
       "    \n",
       "\n",
       "    \n",
       "        <table class=\"eli5-weights eli5-feature-importances\" style=\"border-collapse: collapse; border: none; margin-top: 0em; table-layout: auto;\">\n",
       "    <thead>\n",
       "    <tr style=\"border: none;\">\n",
       "        <th style=\"padding: 0 1em 0 0.5em; text-align: right; border: none;\">Weight</th>\n",
       "        <th style=\"padding: 0 0.5em 0 0.5em; text-align: left; border: none;\">Feature</th>\n",
       "    </tr>\n",
       "    </thead>\n",
       "    <tbody>\n",
       "    \n",
       "        <tr style=\"background-color: hsl(120, 100.00%, 80.00%); border: none;\">\n",
       "            <td style=\"padding: 0 1em 0 0.5em; text-align: right; border: none;\">\n",
       "                0.0590\n",
       "                \n",
       "                    &plusmn; 0.0608\n",
       "                \n",
       "            </td>\n",
       "            <td style=\"padding: 0 0.5em 0 0.5em; text-align: left; border: none;\">\n",
       "                ca\n",
       "            </td>\n",
       "        </tr>\n",
       "    \n",
       "        <tr style=\"background-color: hsl(120, 100.00%, 81.58%); border: none;\">\n",
       "            <td style=\"padding: 0 1em 0 0.5em; text-align: right; border: none;\">\n",
       "                0.0525\n",
       "                \n",
       "                    &plusmn; 0.0245\n",
       "                \n",
       "            </td>\n",
       "            <td style=\"padding: 0 0.5em 0 0.5em; text-align: left; border: none;\">\n",
       "                cp\n",
       "            </td>\n",
       "        </tr>\n",
       "    \n",
       "        <tr style=\"background-color: hsl(120, 100.00%, 84.94%); border: none;\">\n",
       "            <td style=\"padding: 0 1em 0 0.5em; text-align: right; border: none;\">\n",
       "                0.0393\n",
       "                \n",
       "                    &plusmn; 0.0334\n",
       "                \n",
       "            </td>\n",
       "            <td style=\"padding: 0 0.5em 0 0.5em; text-align: left; border: none;\">\n",
       "                thal\n",
       "            </td>\n",
       "        </tr>\n",
       "    \n",
       "        <tr style=\"background-color: hsl(0, 100.00%, 100.00%); border: none;\">\n",
       "            <td style=\"padding: 0 1em 0 0.5em; text-align: right; border: none;\">\n",
       "                -0.0000\n",
       "                \n",
       "                    &plusmn; 0.0359\n",
       "                \n",
       "            </td>\n",
       "            <td style=\"padding: 0 0.5em 0 0.5em; text-align: left; border: none;\">\n",
       "                chol\n",
       "            </td>\n",
       "        </tr>\n",
       "    \n",
       "        <tr style=\"background-color: hsl(0, 100.00%, 94.29%); border: none;\">\n",
       "            <td style=\"padding: 0 1em 0 0.5em; text-align: right; border: none;\">\n",
       "                -0.0098\n",
       "                \n",
       "                    &plusmn; 0.0161\n",
       "                \n",
       "            </td>\n",
       "            <td style=\"padding: 0 0.5em 0 0.5em; text-align: left; border: none;\">\n",
       "                sex\n",
       "            </td>\n",
       "        </tr>\n",
       "    \n",
       "        <tr style=\"background-color: hsl(0, 100.00%, 94.29%); border: none;\">\n",
       "            <td style=\"padding: 0 1em 0 0.5em; text-align: right; border: none;\">\n",
       "                -0.0098\n",
       "                \n",
       "                    &plusmn; 0.0445\n",
       "                \n",
       "            </td>\n",
       "            <td style=\"padding: 0 0.5em 0 0.5em; text-align: left; border: none;\">\n",
       "                trestbps\n",
       "            </td>\n",
       "        </tr>\n",
       "    \n",
       "        <tr style=\"background-color: hsl(0, 100.00%, 93.02%); border: none;\">\n",
       "            <td style=\"padding: 0 1em 0 0.5em; text-align: right; border: none;\">\n",
       "                -0.0131\n",
       "                \n",
       "                    &plusmn; 0.0131\n",
       "                \n",
       "            </td>\n",
       "            <td style=\"padding: 0 0.5em 0 0.5em; text-align: left; border: none;\">\n",
       "                fbs\n",
       "            </td>\n",
       "        </tr>\n",
       "    \n",
       "        <tr style=\"background-color: hsl(0, 100.00%, 91.84%); border: none;\">\n",
       "            <td style=\"padding: 0 1em 0 0.5em; text-align: right; border: none;\">\n",
       "                -0.0164\n",
       "                \n",
       "                    &plusmn; 0.0207\n",
       "                \n",
       "            </td>\n",
       "            <td style=\"padding: 0 0.5em 0 0.5em; text-align: left; border: none;\">\n",
       "                exang\n",
       "            </td>\n",
       "        </tr>\n",
       "    \n",
       "        <tr style=\"background-color: hsl(0, 100.00%, 90.73%); border: none;\">\n",
       "            <td style=\"padding: 0 1em 0 0.5em; text-align: right; border: none;\">\n",
       "                -0.0197\n",
       "                \n",
       "                    &plusmn; 0.0525\n",
       "                \n",
       "            </td>\n",
       "            <td style=\"padding: 0 0.5em 0 0.5em; text-align: left; border: none;\">\n",
       "                age\n",
       "            </td>\n",
       "        </tr>\n",
       "    \n",
       "        <tr style=\"background-color: hsl(0, 100.00%, 89.67%); border: none;\">\n",
       "            <td style=\"padding: 0 1em 0 0.5em; text-align: right; border: none;\">\n",
       "                -0.0230\n",
       "                \n",
       "                    &plusmn; 0.0161\n",
       "                \n",
       "            </td>\n",
       "            <td style=\"padding: 0 0.5em 0 0.5em; text-align: left; border: none;\">\n",
       "                thalach\n",
       "            </td>\n",
       "        </tr>\n",
       "    \n",
       "        <tr style=\"background-color: hsl(0, 100.00%, 84.07%); border: none;\">\n",
       "            <td style=\"padding: 0 1em 0 0.5em; text-align: right; border: none;\">\n",
       "                -0.0426\n",
       "                \n",
       "                    &plusmn; 0.0161\n",
       "                \n",
       "            </td>\n",
       "            <td style=\"padding: 0 0.5em 0 0.5em; text-align: left; border: none;\">\n",
       "                slope\n",
       "            </td>\n",
       "        </tr>\n",
       "    \n",
       "        <tr style=\"background-color: hsl(0, 100.00%, 84.07%); border: none;\">\n",
       "            <td style=\"padding: 0 1em 0 0.5em; text-align: right; border: none;\">\n",
       "                -0.0426\n",
       "                \n",
       "                    &plusmn; 0.0262\n",
       "                \n",
       "            </td>\n",
       "            <td style=\"padding: 0 0.5em 0 0.5em; text-align: left; border: none;\">\n",
       "                oldpeak\n",
       "            </td>\n",
       "        </tr>\n",
       "    \n",
       "        <tr style=\"background-color: hsl(0, 100.00%, 83.23%); border: none;\">\n",
       "            <td style=\"padding: 0 1em 0 0.5em; text-align: right; border: none;\">\n",
       "                -0.0459\n",
       "                \n",
       "                    &plusmn; 0.0382\n",
       "                \n",
       "            </td>\n",
       "            <td style=\"padding: 0 0.5em 0 0.5em; text-align: left; border: none;\">\n",
       "                restecg\n",
       "            </td>\n",
       "        </tr>\n",
       "    \n",
       "    \n",
       "    </tbody>\n",
       "</table>\n",
       "    \n",
       "\n",
       "    \n",
       "\n",
       "\n",
       "    \n",
       "\n",
       "    \n",
       "\n",
       "    \n",
       "\n",
       "    \n",
       "\n",
       "    \n",
       "\n",
       "    \n",
       "\n",
       "\n",
       "\n"
      ],
      "text/plain": [
       "<IPython.core.display.HTML object>"
      ]
     },
     "execution_count": 66,
     "metadata": {},
     "output_type": "execute_result"
    }
   ],
   "source": [
    "perm_imp_xgb = PermutationImportance(xg, random_state=42,scoring='accuracy').fit(X_test, y_test)\n",
    "eli5.show_weights(perm_imp_xgb, feature_names = data.iloc[:,:-1].columns.tolist(),top=50)"
   ]
  },
  {
   "cell_type": "code",
   "execution_count": 93,
   "metadata": {},
   "outputs": [
    {
     "data": {
      "text/plain": [
       "Index(['age', 'sex', 'cp', 'trestbps', 'chol', 'fbs', 'restecg', 'thalach',\n",
       "       'exang', 'oldpeak', 'slope', 'ca', 'thal'],\n",
       "      dtype='object')"
      ]
     },
     "execution_count": 93,
     "metadata": {},
     "output_type": "execute_result"
    }
   ],
   "source": [
    "data.iloc[:,:-1].columns"
   ]
  },
  {
   "cell_type": "code",
   "execution_count": 67,
   "metadata": {},
   "outputs": [
    {
     "name": "stdout",
     "output_type": "stream",
     "text": [
      "(242, 13)\n",
      "(61, 13)\n",
      "(242,)\n",
      "(61,)\n"
     ]
    }
   ],
   "source": [
    "#from sklearn.model_selection import train_test_split\n",
    "#Input_train, Input_test, Target_train, Target_test = train_test_split(InputScaled, y, test_size = 0.30, random_state = 5)\n",
    "print(X_train.shape)\n",
    "print(X_test.shape)\n",
    "print(y_train.shape)\n",
    "print(y_test.shape)"
   ]
  },
  {
   "cell_type": "code",
   "execution_count": 68,
   "metadata": {},
   "outputs": [],
   "source": [
    "from keras.models import Sequential\n",
    "from keras.layers import Dense\n",
    "\n",
    "model = Sequential()\n",
    "model.add(Dense(100, input_dim=13, activation='tanh'))\n",
    "model.add(Dense(50, activation='tanh'))\n",
    "model.add(Dense(1, activation='sigmoid'))"
   ]
  },
  {
   "cell_type": "code",
   "execution_count": 76,
   "metadata": {},
   "outputs": [
    {
     "name": "stdout",
     "output_type": "stream",
     "text": [
      "Epoch 1/120\n",
      "242/242 [==============================] - 0s 450us/step - loss: 0.6675 - accuracy: 0.5992\n",
      "Epoch 2/120\n",
      "242/242 [==============================] - 0s 37us/step - loss: 0.6574 - accuracy: 0.6157\n",
      "Epoch 3/120\n",
      "242/242 [==============================] - 0s 33us/step - loss: 0.6230 - accuracy: 0.6736\n",
      "Epoch 4/120\n",
      "242/242 [==============================] - 0s 33us/step - loss: 0.6187 - accuracy: 0.6570\n",
      "Epoch 5/120\n",
      "242/242 [==============================] - 0s 41us/step - loss: 0.6203 - accuracy: 0.6198\n",
      "Epoch 6/120\n",
      "242/242 [==============================] - 0s 37us/step - loss: 0.6174 - accuracy: 0.6364\n",
      "Epoch 7/120\n",
      "242/242 [==============================] - 0s 45us/step - loss: 0.5854 - accuracy: 0.6942\n",
      "Epoch 8/120\n",
      "242/242 [==============================] - 0s 45us/step - loss: 0.5704 - accuracy: 0.7190\n",
      "Epoch 9/120\n",
      "242/242 [==============================] - 0s 91us/step - loss: 0.5648 - accuracy: 0.7314\n",
      "Epoch 10/120\n",
      "242/242 [==============================] - 0s 41us/step - loss: 0.5614 - accuracy: 0.7273\n",
      "Epoch 11/120\n",
      "242/242 [==============================] - 0s 41us/step - loss: 0.5608 - accuracy: 0.7066\n",
      "Epoch 12/120\n",
      "242/242 [==============================] - 0s 66us/step - loss: 0.5580 - accuracy: 0.7231\n",
      "Epoch 13/120\n",
      "242/242 [==============================] - 0s 33us/step - loss: 0.5468 - accuracy: 0.7314\n",
      "Epoch 14/120\n",
      "242/242 [==============================] - 0s 41us/step - loss: 0.5438 - accuracy: 0.7190\n",
      "Epoch 15/120\n",
      "242/242 [==============================] - 0s 33us/step - loss: 0.5456 - accuracy: 0.7438\n",
      "Epoch 16/120\n",
      "242/242 [==============================] - 0s 50us/step - loss: 0.5485 - accuracy: 0.7149\n",
      "Epoch 17/120\n",
      "242/242 [==============================] - 0s 33us/step - loss: 0.5464 - accuracy: 0.7603\n",
      "Epoch 18/120\n",
      "242/242 [==============================] - 0s 37us/step - loss: 0.5421 - accuracy: 0.7438\n",
      "Epoch 19/120\n",
      "242/242 [==============================] - 0s 33us/step - loss: 0.5358 - accuracy: 0.7355\n",
      "Epoch 20/120\n",
      "242/242 [==============================] - 0s 58us/step - loss: 0.5335 - accuracy: 0.7479\n",
      "Epoch 21/120\n",
      "242/242 [==============================] - 0s 41us/step - loss: 0.5383 - accuracy: 0.7273\n",
      "Epoch 22/120\n",
      "242/242 [==============================] - 0s 37us/step - loss: 0.5326 - accuracy: 0.7355\n",
      "Epoch 23/120\n",
      "242/242 [==============================] - 0s 33us/step - loss: 0.5287 - accuracy: 0.7397\n",
      "Epoch 24/120\n",
      "242/242 [==============================] - 0s 41us/step - loss: 0.5329 - accuracy: 0.7562\n",
      "Epoch 25/120\n",
      "242/242 [==============================] - 0s 41us/step - loss: 0.5348 - accuracy: 0.7479\n",
      "Epoch 26/120\n",
      "242/242 [==============================] - 0s 41us/step - loss: 0.5229 - accuracy: 0.7521\n",
      "Epoch 27/120\n",
      "242/242 [==============================] - 0s 37us/step - loss: 0.5242 - accuracy: 0.7521\n",
      "Epoch 28/120\n",
      "242/242 [==============================] - 0s 45us/step - loss: 0.5198 - accuracy: 0.7562\n",
      "Epoch 29/120\n",
      "242/242 [==============================] - 0s 54us/step - loss: 0.5114 - accuracy: 0.7479\n",
      "Epoch 30/120\n",
      "242/242 [==============================] - 0s 45us/step - loss: 0.5222 - accuracy: 0.7397\n",
      "Epoch 31/120\n",
      "242/242 [==============================] - 0s 66us/step - loss: 0.5137 - accuracy: 0.7562\n",
      "Epoch 32/120\n",
      "242/242 [==============================] - 0s 58us/step - loss: 0.5152 - accuracy: 0.7645\n",
      "Epoch 33/120\n",
      "242/242 [==============================] - 0s 45us/step - loss: 0.5154 - accuracy: 0.7603\n",
      "Epoch 34/120\n",
      "242/242 [==============================] - 0s 62us/step - loss: 0.5062 - accuracy: 0.7521\n",
      "Epoch 35/120\n",
      "242/242 [==============================] - 0s 37us/step - loss: 0.5106 - accuracy: 0.7273\n",
      "Epoch 36/120\n",
      "242/242 [==============================] - 0s 41us/step - loss: 0.5201 - accuracy: 0.7397\n",
      "Epoch 37/120\n",
      "242/242 [==============================] - 0s 41us/step - loss: 0.5426 - accuracy: 0.7479\n",
      "Epoch 38/120\n",
      "242/242 [==============================] - 0s 58us/step - loss: 0.5175 - accuracy: 0.7355\n",
      "Epoch 39/120\n",
      "242/242 [==============================] - 0s 29us/step - loss: 0.5034 - accuracy: 0.7521\n",
      "Epoch 40/120\n",
      "242/242 [==============================] - 0s 33us/step - loss: 0.4945 - accuracy: 0.7645\n",
      "Epoch 41/120\n",
      "242/242 [==============================] - 0s 33us/step - loss: 0.4979 - accuracy: 0.7645\n",
      "Epoch 42/120\n",
      "242/242 [==============================] - 0s 33us/step - loss: 0.4924 - accuracy: 0.7562\n",
      "Epoch 43/120\n",
      "242/242 [==============================] - 0s 33us/step - loss: 0.4936 - accuracy: 0.7603\n",
      "Epoch 44/120\n",
      "242/242 [==============================] - 0s 33us/step - loss: 0.4857 - accuracy: 0.7521\n",
      "Epoch 45/120\n",
      "242/242 [==============================] - 0s 33us/step - loss: 0.4866 - accuracy: 0.7727\n",
      "Epoch 46/120\n",
      "242/242 [==============================] - 0s 29us/step - loss: 0.4845 - accuracy: 0.7686\n",
      "Epoch 47/120\n",
      "242/242 [==============================] - 0s 33us/step - loss: 0.4758 - accuracy: 0.7603\n",
      "Epoch 48/120\n",
      "242/242 [==============================] - 0s 33us/step - loss: 0.4774 - accuracy: 0.7562\n",
      "Epoch 49/120\n",
      "242/242 [==============================] - 0s 33us/step - loss: 0.4761 - accuracy: 0.7686\n",
      "Epoch 50/120\n",
      "242/242 [==============================] - 0s 33us/step - loss: 0.4748 - accuracy: 0.7810\n",
      "Epoch 51/120\n",
      "242/242 [==============================] - 0s 41us/step - loss: 0.4729 - accuracy: 0.7645\n",
      "Epoch 52/120\n",
      "242/242 [==============================] - 0s 45us/step - loss: 0.4641 - accuracy: 0.7851\n",
      "Epoch 53/120\n",
      "242/242 [==============================] - 0s 41us/step - loss: 0.4689 - accuracy: 0.7810\n",
      "Epoch 54/120\n",
      "242/242 [==============================] - 0s 50us/step - loss: 0.4659 - accuracy: 0.7645\n",
      "Epoch 55/120\n",
      "242/242 [==============================] - 0s 37us/step - loss: 0.4591 - accuracy: 0.7810\n",
      "Epoch 56/120\n",
      "242/242 [==============================] - 0s 62us/step - loss: 0.4515 - accuracy: 0.7851\n",
      "Epoch 57/120\n",
      "242/242 [==============================] - 0s 37us/step - loss: 0.4575 - accuracy: 0.7603\n",
      "Epoch 58/120\n",
      "242/242 [==============================] - 0s 33us/step - loss: 0.4832 - accuracy: 0.7645\n",
      "Epoch 59/120\n",
      "242/242 [==============================] - 0s 37us/step - loss: 0.4593 - accuracy: 0.7562\n",
      "Epoch 60/120\n",
      "242/242 [==============================] - 0s 33us/step - loss: 0.4535 - accuracy: 0.7893\n",
      "Epoch 61/120\n",
      "242/242 [==============================] - 0s 37us/step - loss: 0.4580 - accuracy: 0.7769\n",
      "Epoch 62/120\n",
      "242/242 [==============================] - 0s 29us/step - loss: 0.4521 - accuracy: 0.7521\n",
      "Epoch 63/120\n",
      "242/242 [==============================] - 0s 33us/step - loss: 0.4468 - accuracy: 0.8017\n",
      "Epoch 64/120\n",
      "242/242 [==============================] - 0s 33us/step - loss: 0.4409 - accuracy: 0.7893\n",
      "Epoch 65/120\n",
      "242/242 [==============================] - 0s 33us/step - loss: 0.4413 - accuracy: 0.7893\n",
      "Epoch 66/120\n",
      "242/242 [==============================] - 0s 33us/step - loss: 0.4326 - accuracy: 0.7934\n",
      "Epoch 67/120\n",
      "242/242 [==============================] - 0s 29us/step - loss: 0.4370 - accuracy: 0.7934\n",
      "Epoch 68/120\n",
      "242/242 [==============================] - 0s 33us/step - loss: 0.4557 - accuracy: 0.7851\n",
      "Epoch 69/120\n",
      "242/242 [==============================] - 0s 37us/step - loss: 0.4294 - accuracy: 0.7769\n",
      "Epoch 70/120\n",
      "242/242 [==============================] - 0s 33us/step - loss: 0.4213 - accuracy: 0.8099\n",
      "Epoch 71/120\n",
      "242/242 [==============================] - 0s 33us/step - loss: 0.4192 - accuracy: 0.7727\n",
      "Epoch 72/120\n",
      "242/242 [==============================] - 0s 37us/step - loss: 0.4318 - accuracy: 0.7934\n",
      "Epoch 73/120\n",
      "242/242 [==============================] - 0s 37us/step - loss: 0.4269 - accuracy: 0.7727\n",
      "Epoch 74/120\n",
      "242/242 [==============================] - 0s 45us/step - loss: 0.4326 - accuracy: 0.8017\n",
      "Epoch 75/120\n",
      "242/242 [==============================] - 0s 33us/step - loss: 0.4339 - accuracy: 0.7934\n",
      "Epoch 76/120\n",
      "242/242 [==============================] - 0s 33us/step - loss: 0.4176 - accuracy: 0.7934\n",
      "Epoch 77/120\n",
      "242/242 [==============================] - 0s 37us/step - loss: 0.4280 - accuracy: 0.8058\n",
      "Epoch 78/120\n",
      "242/242 [==============================] - 0s 33us/step - loss: 0.4211 - accuracy: 0.7934\n",
      "Epoch 79/120\n",
      "242/242 [==============================] - 0s 29us/step - loss: 0.4323 - accuracy: 0.8058\n",
      "Epoch 80/120\n",
      "242/242 [==============================] - 0s 37us/step - loss: 0.4140 - accuracy: 0.7851\n",
      "Epoch 81/120\n",
      "242/242 [==============================] - 0s 37us/step - loss: 0.4113 - accuracy: 0.8306\n",
      "Epoch 82/120\n",
      "242/242 [==============================] - 0s 33us/step - loss: 0.4289 - accuracy: 0.7893\n",
      "Epoch 83/120\n",
      "242/242 [==============================] - 0s 33us/step - loss: 0.4085 - accuracy: 0.7975\n",
      "Epoch 84/120\n",
      "242/242 [==============================] - 0s 33us/step - loss: 0.3997 - accuracy: 0.8140\n",
      "Epoch 85/120\n",
      "242/242 [==============================] - 0s 62us/step - loss: 0.4066 - accuracy: 0.8058\n",
      "Epoch 86/120\n",
      "242/242 [==============================] - 0s 33us/step - loss: 0.4203 - accuracy: 0.7851\n",
      "Epoch 87/120\n",
      "242/242 [==============================] - 0s 33us/step - loss: 0.4092 - accuracy: 0.8017\n",
      "Epoch 88/120\n",
      "242/242 [==============================] - 0s 33us/step - loss: 0.3913 - accuracy: 0.8182\n",
      "Epoch 89/120\n",
      "242/242 [==============================] - 0s 33us/step - loss: 0.3807 - accuracy: 0.8223\n",
      "Epoch 90/120\n",
      "242/242 [==============================] - 0s 33us/step - loss: 0.3898 - accuracy: 0.8099\n",
      "Epoch 91/120\n",
      "242/242 [==============================] - 0s 29us/step - loss: 0.3774 - accuracy: 0.8471\n",
      "Epoch 92/120\n",
      "242/242 [==============================] - 0s 37us/step - loss: 0.3734 - accuracy: 0.8388\n",
      "Epoch 93/120\n",
      "242/242 [==============================] - 0s 37us/step - loss: 0.3801 - accuracy: 0.8099\n",
      "Epoch 94/120\n",
      "242/242 [==============================] - 0s 37us/step - loss: 0.3702 - accuracy: 0.8306\n",
      "Epoch 95/120\n",
      "242/242 [==============================] - 0s 33us/step - loss: 0.3669 - accuracy: 0.8430\n",
      "Epoch 96/120\n",
      "242/242 [==============================] - 0s 45us/step - loss: 0.3538 - accuracy: 0.8471\n",
      "Epoch 97/120\n",
      "242/242 [==============================] - 0s 33us/step - loss: 0.3529 - accuracy: 0.8347\n",
      "Epoch 98/120\n",
      "242/242 [==============================] - 0s 37us/step - loss: 0.3799 - accuracy: 0.8388\n",
      "Epoch 99/120\n",
      "242/242 [==============================] - 0s 37us/step - loss: 0.3578 - accuracy: 0.8471\n",
      "Epoch 100/120\n",
      "242/242 [==============================] - 0s 36us/step - loss: 0.3563 - accuracy: 0.8512\n",
      "Epoch 101/120\n",
      "242/242 [==============================] - 0s 33us/step - loss: 0.3521 - accuracy: 0.8471\n",
      "Epoch 102/120\n",
      "242/242 [==============================] - 0s 33us/step - loss: 0.3619 - accuracy: 0.8388\n",
      "Epoch 103/120\n",
      "242/242 [==============================] - 0s 29us/step - loss: 0.3566 - accuracy: 0.8223\n",
      "Epoch 104/120\n",
      "242/242 [==============================] - 0s 33us/step - loss: 0.3448 - accuracy: 0.8388\n",
      "Epoch 105/120\n",
      "242/242 [==============================] - 0s 33us/step - loss: 0.3349 - accuracy: 0.8430\n",
      "Epoch 106/120\n",
      "242/242 [==============================] - 0s 33us/step - loss: 0.3338 - accuracy: 0.8512\n",
      "Epoch 107/120\n",
      "242/242 [==============================] - 0s 33us/step - loss: 0.3339 - accuracy: 0.8595\n",
      "Epoch 108/120\n",
      "242/242 [==============================] - 0s 62us/step - loss: 0.3483 - accuracy: 0.8264\n",
      "Epoch 109/120\n",
      "242/242 [==============================] - 0s 33us/step - loss: 0.3524 - accuracy: 0.8430\n",
      "Epoch 110/120\n",
      "242/242 [==============================] - 0s 36us/step - loss: 0.3409 - accuracy: 0.8430\n",
      "Epoch 111/120\n",
      "242/242 [==============================] - 0s 29us/step - loss: 0.3402 - accuracy: 0.8512\n",
      "Epoch 112/120\n",
      "242/242 [==============================] - 0s 33us/step - loss: 0.3440 - accuracy: 0.8430\n",
      "Epoch 113/120\n",
      "242/242 [==============================] - 0s 33us/step - loss: 0.3245 - accuracy: 0.8554\n",
      "Epoch 114/120\n",
      "242/242 [==============================] - 0s 33us/step - loss: 0.3254 - accuracy: 0.8678\n",
      "Epoch 115/120\n",
      "242/242 [==============================] - 0s 33us/step - loss: 0.3328 - accuracy: 0.8471\n",
      "Epoch 116/120\n",
      "242/242 [==============================] - 0s 37us/step - loss: 0.3285 - accuracy: 0.8306\n",
      "Epoch 117/120\n",
      "242/242 [==============================] - 0s 41us/step - loss: 0.3243 - accuracy: 0.8554\n",
      "Epoch 118/120\n",
      "242/242 [==============================] - 0s 37us/step - loss: 0.3305 - accuracy: 0.8512\n",
      "Epoch 119/120\n",
      "242/242 [==============================] - 0s 45us/step - loss: 0.3307 - accuracy: 0.8595\n",
      "Epoch 120/120\n",
      "242/242 [==============================] - 0s 31us/step - loss: 0.3272 - accuracy: 0.8554\n"
     ]
    },
    {
     "data": {
      "text/plain": [
       "<keras.callbacks.callbacks.History at 0x228499e2fd0>"
      ]
     },
     "execution_count": 76,
     "metadata": {},
     "output_type": "execute_result"
    }
   ],
   "source": [
    "model.compile(optimizer='adam',loss='binary_crossentropy',metrics=['accuracy'])\n",
    "model.fit(X_train, y_train, epochs=120, verbose=1)"
   ]
  },
  {
   "cell_type": "code",
   "execution_count": 77,
   "metadata": {},
   "outputs": [
    {
     "name": "stdout",
     "output_type": "stream",
     "text": [
      "Model: \"sequential_1\"\n",
      "_________________________________________________________________\n",
      "Layer (type)                 Output Shape              Param #   \n",
      "=================================================================\n",
      "dense_1 (Dense)              (None, 100)               1400      \n",
      "_________________________________________________________________\n",
      "dense_2 (Dense)              (None, 50)                5050      \n",
      "_________________________________________________________________\n",
      "dense_3 (Dense)              (None, 1)                 51        \n",
      "=================================================================\n",
      "Total params: 6,501\n",
      "Trainable params: 6,501\n",
      "Non-trainable params: 0\n",
      "_________________________________________________________________\n",
      "Keras Model Accuracy =  0.8032786846160889\n"
     ]
    }
   ],
   "source": [
    "model.summary()\n",
    "\n",
    "score = model.evaluate(X_test, y_test, verbose=0)\n",
    "\n",
    "print('Keras Model Accuracy = ',score[1])"
   ]
  },
  {
   "cell_type": "code",
   "execution_count": 78,
   "metadata": {},
   "outputs": [],
   "source": [
    "y_pred = model.predict(X_test)"
   ]
  },
  {
   "cell_type": "code",
   "execution_count": 79,
   "metadata": {},
   "outputs": [],
   "source": [
    "y_pred_train = model.predict(X_train)"
   ]
  },
  {
   "cell_type": "code",
   "execution_count": 80,
   "metadata": {},
   "outputs": [],
   "source": [
    "y_pred[y_pred > 0.5] = 1\n",
    "y_pred[y_pred < 0.5] = 0\n",
    "y_pred_train[y_pred_train > 0.5] = 1\n",
    "y_pred_train[y_pred_train < 0.5] = 1"
   ]
  },
  {
   "cell_type": "code",
   "execution_count": 95,
   "metadata": {},
   "outputs": [
    {
     "data": {
      "text/plain": [
       "array([0, 0, 1, 0, 1, 1, 1, 1, 1, 0, 1, 0, 0, 1, 0, 1, 1, 0, 0, 0, 1, 0,\n",
       "       0, 1, 0, 0, 0, 1, 1, 1, 0, 0, 0, 1, 1, 0, 0, 0, 1, 0, 0, 0, 0, 1,\n",
       "       0, 1, 0, 1, 1, 0, 1, 0, 0, 0, 1, 0, 1, 0, 0, 1, 0], dtype=int64)"
      ]
     },
     "execution_count": 95,
     "metadata": {},
     "output_type": "execute_result"
    }
   ],
   "source": [
    "y_test"
   ]
  },
  {
   "cell_type": "code",
   "execution_count": 81,
   "metadata": {},
   "outputs": [],
   "source": [
    "cm_test = confusion_matrix(y_pred, y_test)\n",
    "cm_train = confusion_matrix(y_pred_train, y_train)"
   ]
  },
  {
   "cell_type": "code",
   "execution_count": 87,
   "metadata": {},
   "outputs": [
    {
     "name": "stdout",
     "output_type": "stream",
     "text": [
      "Accuracy for test set for Keras = 0.8032786885245902\n"
     ]
    }
   ],
   "source": [
    "print('Accuracy for test set for Keras = {}'.format((cm_test[0][0] + cm_test[1][1])/len(y_test)))"
   ]
  },
  {
   "cell_type": "raw",
   "metadata": {},
   "source": [
    "#Accuracy for training set for Logistic Regression = 0.8471074380165289\n",
    "#Accuracy for test set for Logistic Regression = 0.7868852459016393\n",
    "\n",
    "#Accuracy for training set for Random Forest = 0.987603305785124\n",
    "#Accuracy for test set for Random Forest = 0.7540983606557377\n",
    "\n",
    "#Accuracy for training set for XGBoost = 1.0\n",
    "#Accuracy for test set for XGBoost = 0.7540983606557377\n",
    "\n",
    "#Accuracy for training set for Keras Deep learning = 0.8554374787864554\n",
    "#Accuracy for test set for Keras = 0.8032786885245902\n",
    "\n",
    "#Feature Importance - Permutation Importance\n",
    "\n",
    "#Logistic Regression\n",
    "Positive features = ['thal','ca','exang','cp','thalach','oldpeak']\n",
    "Negative features = ['restecg','chol','trestbps']\n",
    "Neutral features = ['sex','fbs','slope','age']\n",
    "\n",
    "#Random Forest\n",
    "Positive = ['thal','ca','cp','sex']\n",
    "Negative = ['fbs','thalach','exang','oldpeak','restecg','chol','trestbps','age','slope']\n",
    "\n",
    "#XgBoost\n",
    "Positive = ['ca','thal','cp','exang','sex']\n",
    "Neutral = ['thalach','chol','trestbps','age']\n",
    "Negative = ['oldpeak','restecg','fbs','slope']"
   ]
  },
  {
   "cell_type": "code",
   "execution_count": 101,
   "metadata": {},
   "outputs": [
    {
     "data": {
      "image/png": "[encoded data removed]",
      "text/plain": [
       "<Figure size 720x504 with 1 Axes>"
      ]
     },
     "metadata": {},
     "output_type": "display_data"
    }
   ],
   "source": [
    "sizes = [len(data[data['thal'] == 3.0]), len(data[data['thal']==6.0]), len(data[data['thal']==7.0])]\n",
    "labels = ['Normal', 'Fixed Defect', 'Reversible defect']\n",
    "plt.pie(x=sizes, labels=labels, explode=(0, 0, 0), autopct=\"%1.2f%%\", startangle=90,shadow=True)\n",
    "plt.show()"
   ]
  },
  {
   "cell_type": "code",
   "execution_count": 102,
   "metadata": {},
   "outputs": [
    {
     "data": {
      "image/png": "[encoded data removed]",
      "text/plain": [
       "<Figure size 1080x360 with 2 Axes>"
      ]
     },
     "metadata": {
      "needs_background": "light"
     },
     "output_type": "display_data"
    }
   ],
   "source": [
    "f, axes = plt.subplots(1,2,figsize=(15,5))\n",
    "absence = data.loc[data['num']==0,'thal']\n",
    "presence = data.loc[data['num']==1,'thal']\n",
    "sns.countplot(absence, data=data,ax=axes[0],order=[3.0, 6.0, 7.0]).set_title('Absence of Heart Disease')\n",
    "sns.countplot(presence, data=data,ax=axes[1],order=[3.0, 6.0, 7.0]).set_title('Presence of Heart Disease')\n",
    "plt.show()"
   ]
  }
 ],
 "metadata": {
  "kernelspec": {
   "display_name": "Python 3",
   "language": "python",
   "name": "python3"
  },
  "language_info": {
   "codemirror_mode": {
    "name": "ipython",
    "version": 3
   },
   "file_extension": ".py",
   "mimetype": "text/x-python",
   "name": "python",
   "nbconvert_exporter": "python",
   "pygments_lexer": "ipython3",
   "version": "3.7.1"
  }
 },
 "nbformat": 4,
 "nbformat_minor": 4
}
